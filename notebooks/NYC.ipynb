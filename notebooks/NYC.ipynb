{
 "cells": [
  {
   "cell_type": "markdown",
   "metadata": {},
   "source": [
    "## NY Property Sales - Regression problem"
   ]
  },
  {
   "cell_type": "markdown",
   "metadata": {},
   "source": [
    "Descrição da base de dados:"
   ]
  },
  {
   "cell_type": "markdown",
   "metadata": {},
   "source": [
    "This dataset is a record of every building or building unit (apartment, etc.) sold in the New York City property market over a 12-month period.\n",
    "\n",
    "Content\n",
    "\n",
    "This dataset contains the location, address, type, sale price, and sale date of building units sold. A reference on the trickier fields:\n",
    "\n",
    "- **BOROUGH**: A digit code for the borough the property is located in; in order these are Manhattan (1), Bronx (2), Brooklyn (3), Queens (4), and Staten Island (5).\n",
    "- **BLOCK**; LOT: The combination of borough, block, and lot forms a unique key for property in New York City. Commonly called a BBL.\n",
    "- **BUILDING CLASS AT PRESENT and BUILDING CLASS AT TIME OF SALE**: The type of building at various points in time. See the glossary linked to below.\n",
    "\n",
    "Glossary of therms: http://www1.nyc.gov/assets/finance/downloads/pdf/07pdf/glossary_rsf071607.pdf\n",
    "\n",
    "Building Classifications Glossary: https://www1.nyc.gov/assets/finance/jump/hlpbldgcode.html\n",
    "\n",
    "    \n",
    "Note that because this is a financial transaction dataset, there are some points that need to be kept in mind:\n",
    "\n",
    "- Many sales occur with a nonsensically small dollar amount: 0 value most commonly. These sales are actually transfers of deeds between parties: for example, parents transferring ownership to their home to a child after moving out for retirement.\n",
    "- This dataset uses the financial definition of a building/building unit, for tax purposes. In case a single entity owns the building in question, a sale covers the value of the entire building. In case a building is owned piecemeal by its residents (a condominium), a sale refers to a single apartment (or group of apartments) owned by some individual.\n"
   ]
  },
  {
   "cell_type": "code",
   "execution_count": 1,
   "metadata": {},
   "outputs": [],
   "source": [
    "import pandas as pd\n",
    "import numpy as np\n",
    "import seaborn as sns\n",
    "from matplotlib import pyplot as plt\n",
    "\n",
    "from sklearn.ensemble import RandomForestRegressor\n",
    "from sklearn.linear_model import LinearRegression, Lasso\n",
    "from sklearn.neighbors import KNeighborsRegressor\n",
    "from sklearn.model_selection import train_test_split, GridSearchCV\n",
    "from sklearn.metrics import mean_squared_error, mean_absolute_error, r2_score\n",
    "from sklearn.model_selection import cross_val_score\n",
    "from sklearn.preprocessing import StandardScaler\n",
    "\n",
    "%matplotlib inline"
   ]
  },
  {
   "cell_type": "code",
   "execution_count": 2,
   "metadata": {},
   "outputs": [],
   "source": [
    "df = pd.read_csv('../data/nyc-rolling-sales.csv',  encoding=\"ISO-8859-1\", na_values=' -  ')"
   ]
  },
  {
   "cell_type": "code",
   "execution_count": 3,
   "metadata": {
    "scrolled": false
   },
   "outputs": [
    {
     "data": {
      "text/html": [
       "<div>\n",
       "<style scoped>\n",
       "    .dataframe tbody tr th:only-of-type {\n",
       "        vertical-align: middle;\n",
       "    }\n",
       "\n",
       "    .dataframe tbody tr th {\n",
       "        vertical-align: top;\n",
       "    }\n",
       "\n",
       "    .dataframe thead th {\n",
       "        text-align: right;\n",
       "    }\n",
       "</style>\n",
       "<table border=\"1\" class=\"dataframe\">\n",
       "  <thead>\n",
       "    <tr style=\"text-align: right;\">\n",
       "      <th></th>\n",
       "      <th>Unnamed: 0</th>\n",
       "      <th>BOROUGH</th>\n",
       "      <th>NEIGHBORHOOD</th>\n",
       "      <th>BUILDING CLASS CATEGORY</th>\n",
       "      <th>TAX CLASS AT PRESENT</th>\n",
       "      <th>BLOCK</th>\n",
       "      <th>LOT</th>\n",
       "      <th>EASE-MENT</th>\n",
       "      <th>BUILDING CLASS AT PRESENT</th>\n",
       "      <th>ADDRESS</th>\n",
       "      <th>...</th>\n",
       "      <th>RESIDENTIAL UNITS</th>\n",
       "      <th>COMMERCIAL UNITS</th>\n",
       "      <th>TOTAL UNITS</th>\n",
       "      <th>LAND SQUARE FEET</th>\n",
       "      <th>GROSS SQUARE FEET</th>\n",
       "      <th>YEAR BUILT</th>\n",
       "      <th>TAX CLASS AT TIME OF SALE</th>\n",
       "      <th>BUILDING CLASS AT TIME OF SALE</th>\n",
       "      <th>SALE PRICE</th>\n",
       "      <th>SALE DATE</th>\n",
       "    </tr>\n",
       "  </thead>\n",
       "  <tbody>\n",
       "    <tr>\n",
       "      <th>0</th>\n",
       "      <td>4</td>\n",
       "      <td>1</td>\n",
       "      <td>ALPHABET CITY</td>\n",
       "      <td>07 RENTALS - WALKUP APARTMENTS</td>\n",
       "      <td>2A</td>\n",
       "      <td>392</td>\n",
       "      <td>6</td>\n",
       "      <td></td>\n",
       "      <td>C2</td>\n",
       "      <td>153 AVENUE B</td>\n",
       "      <td>...</td>\n",
       "      <td>5</td>\n",
       "      <td>0</td>\n",
       "      <td>5</td>\n",
       "      <td>1633.0</td>\n",
       "      <td>6440.0</td>\n",
       "      <td>1900</td>\n",
       "      <td>2</td>\n",
       "      <td>C2</td>\n",
       "      <td>6625000.0</td>\n",
       "      <td>2017-07-19 00:00:00</td>\n",
       "    </tr>\n",
       "    <tr>\n",
       "      <th>1</th>\n",
       "      <td>5</td>\n",
       "      <td>1</td>\n",
       "      <td>ALPHABET CITY</td>\n",
       "      <td>07 RENTALS - WALKUP APARTMENTS</td>\n",
       "      <td>2</td>\n",
       "      <td>399</td>\n",
       "      <td>26</td>\n",
       "      <td></td>\n",
       "      <td>C7</td>\n",
       "      <td>234 EAST 4TH   STREET</td>\n",
       "      <td>...</td>\n",
       "      <td>28</td>\n",
       "      <td>3</td>\n",
       "      <td>31</td>\n",
       "      <td>4616.0</td>\n",
       "      <td>18690.0</td>\n",
       "      <td>1900</td>\n",
       "      <td>2</td>\n",
       "      <td>C7</td>\n",
       "      <td>NaN</td>\n",
       "      <td>2016-12-14 00:00:00</td>\n",
       "    </tr>\n",
       "    <tr>\n",
       "      <th>2</th>\n",
       "      <td>6</td>\n",
       "      <td>1</td>\n",
       "      <td>ALPHABET CITY</td>\n",
       "      <td>07 RENTALS - WALKUP APARTMENTS</td>\n",
       "      <td>2</td>\n",
       "      <td>399</td>\n",
       "      <td>39</td>\n",
       "      <td></td>\n",
       "      <td>C7</td>\n",
       "      <td>197 EAST 3RD   STREET</td>\n",
       "      <td>...</td>\n",
       "      <td>16</td>\n",
       "      <td>1</td>\n",
       "      <td>17</td>\n",
       "      <td>2212.0</td>\n",
       "      <td>7803.0</td>\n",
       "      <td>1900</td>\n",
       "      <td>2</td>\n",
       "      <td>C7</td>\n",
       "      <td>NaN</td>\n",
       "      <td>2016-12-09 00:00:00</td>\n",
       "    </tr>\n",
       "    <tr>\n",
       "      <th>3</th>\n",
       "      <td>7</td>\n",
       "      <td>1</td>\n",
       "      <td>ALPHABET CITY</td>\n",
       "      <td>07 RENTALS - WALKUP APARTMENTS</td>\n",
       "      <td>2B</td>\n",
       "      <td>402</td>\n",
       "      <td>21</td>\n",
       "      <td></td>\n",
       "      <td>C4</td>\n",
       "      <td>154 EAST 7TH STREET</td>\n",
       "      <td>...</td>\n",
       "      <td>10</td>\n",
       "      <td>0</td>\n",
       "      <td>10</td>\n",
       "      <td>2272.0</td>\n",
       "      <td>6794.0</td>\n",
       "      <td>1913</td>\n",
       "      <td>2</td>\n",
       "      <td>C4</td>\n",
       "      <td>3936272.0</td>\n",
       "      <td>2016-09-23 00:00:00</td>\n",
       "    </tr>\n",
       "    <tr>\n",
       "      <th>4</th>\n",
       "      <td>8</td>\n",
       "      <td>1</td>\n",
       "      <td>ALPHABET CITY</td>\n",
       "      <td>07 RENTALS - WALKUP APARTMENTS</td>\n",
       "      <td>2A</td>\n",
       "      <td>404</td>\n",
       "      <td>55</td>\n",
       "      <td></td>\n",
       "      <td>C2</td>\n",
       "      <td>301 EAST 10TH   STREET</td>\n",
       "      <td>...</td>\n",
       "      <td>6</td>\n",
       "      <td>0</td>\n",
       "      <td>6</td>\n",
       "      <td>2369.0</td>\n",
       "      <td>4615.0</td>\n",
       "      <td>1900</td>\n",
       "      <td>2</td>\n",
       "      <td>C2</td>\n",
       "      <td>8000000.0</td>\n",
       "      <td>2016-11-17 00:00:00</td>\n",
       "    </tr>\n",
       "  </tbody>\n",
       "</table>\n",
       "<p>5 rows × 22 columns</p>\n",
       "</div>"
      ],
      "text/plain": [
       "   Unnamed: 0  BOROUGH   NEIGHBORHOOD  \\\n",
       "0           4        1  ALPHABET CITY   \n",
       "1           5        1  ALPHABET CITY   \n",
       "2           6        1  ALPHABET CITY   \n",
       "3           7        1  ALPHABET CITY   \n",
       "4           8        1  ALPHABET CITY   \n",
       "\n",
       "                       BUILDING CLASS CATEGORY TAX CLASS AT PRESENT  BLOCK  \\\n",
       "0  07 RENTALS - WALKUP APARTMENTS                                2A    392   \n",
       "1  07 RENTALS - WALKUP APARTMENTS                                 2    399   \n",
       "2  07 RENTALS - WALKUP APARTMENTS                                 2    399   \n",
       "3  07 RENTALS - WALKUP APARTMENTS                                2B    402   \n",
       "4  07 RENTALS - WALKUP APARTMENTS                                2A    404   \n",
       "\n",
       "   LOT EASE-MENT BUILDING CLASS AT PRESENT                 ADDRESS  ...  \\\n",
       "0    6                                  C2            153 AVENUE B  ...   \n",
       "1   26                                  C7   234 EAST 4TH   STREET  ...   \n",
       "2   39                                  C7   197 EAST 3RD   STREET  ...   \n",
       "3   21                                  C4     154 EAST 7TH STREET  ...   \n",
       "4   55                                  C2  301 EAST 10TH   STREET  ...   \n",
       "\n",
       "  RESIDENTIAL UNITS  COMMERCIAL UNITS  TOTAL UNITS  LAND SQUARE FEET  \\\n",
       "0                 5                 0            5            1633.0   \n",
       "1                28                 3           31            4616.0   \n",
       "2                16                 1           17            2212.0   \n",
       "3                10                 0           10            2272.0   \n",
       "4                 6                 0            6            2369.0   \n",
       "\n",
       "   GROSS SQUARE FEET  YEAR BUILT  TAX CLASS AT TIME OF SALE  \\\n",
       "0             6440.0        1900                          2   \n",
       "1            18690.0        1900                          2   \n",
       "2             7803.0        1900                          2   \n",
       "3             6794.0        1913                          2   \n",
       "4             4615.0        1900                          2   \n",
       "\n",
       "   BUILDING CLASS AT TIME OF SALE  SALE PRICE            SALE DATE  \n",
       "0                              C2   6625000.0  2017-07-19 00:00:00  \n",
       "1                              C7         NaN  2016-12-14 00:00:00  \n",
       "2                              C7         NaN  2016-12-09 00:00:00  \n",
       "3                              C4   3936272.0  2016-09-23 00:00:00  \n",
       "4                              C2   8000000.0  2016-11-17 00:00:00  \n",
       "\n",
       "[5 rows x 22 columns]"
      ]
     },
     "execution_count": 3,
     "metadata": {},
     "output_type": "execute_result"
    }
   ],
   "source": [
    "df.head()"
   ]
  },
  {
   "cell_type": "code",
   "execution_count": 4,
   "metadata": {
    "scrolled": false
   },
   "outputs": [
    {
     "name": "stdout",
     "output_type": "stream",
     "text": [
      "<class 'pandas.core.frame.DataFrame'>\n",
      "RangeIndex: 84548 entries, 0 to 84547\n",
      "Data columns (total 22 columns):\n",
      " #   Column                          Non-Null Count  Dtype  \n",
      "---  ------                          --------------  -----  \n",
      " 0   Unnamed: 0                      84548 non-null  int64  \n",
      " 1   BOROUGH                         84548 non-null  int64  \n",
      " 2   NEIGHBORHOOD                    84548 non-null  object \n",
      " 3   BUILDING CLASS CATEGORY         84548 non-null  object \n",
      " 4   TAX CLASS AT PRESENT            84548 non-null  object \n",
      " 5   BLOCK                           84548 non-null  int64  \n",
      " 6   LOT                             84548 non-null  int64  \n",
      " 7   EASE-MENT                       84548 non-null  object \n",
      " 8   BUILDING CLASS AT PRESENT       84548 non-null  object \n",
      " 9   ADDRESS                         84548 non-null  object \n",
      " 10  APARTMENT NUMBER                84548 non-null  object \n",
      " 11  ZIP CODE                        84548 non-null  int64  \n",
      " 12  RESIDENTIAL UNITS               84548 non-null  int64  \n",
      " 13  COMMERCIAL UNITS                84548 non-null  int64  \n",
      " 14  TOTAL UNITS                     84548 non-null  int64  \n",
      " 15  LAND SQUARE FEET                58296 non-null  float64\n",
      " 16  GROSS SQUARE FEET               56936 non-null  float64\n",
      " 17  YEAR BUILT                      84548 non-null  int64  \n",
      " 18  TAX CLASS AT TIME OF SALE       84548 non-null  int64  \n",
      " 19  BUILDING CLASS AT TIME OF SALE  84548 non-null  object \n",
      " 20  SALE PRICE                      69987 non-null  float64\n",
      " 21  SALE DATE                       84548 non-null  object \n",
      "dtypes: float64(3), int64(10), object(9)\n",
      "memory usage: 14.2+ MB\n"
     ]
    }
   ],
   "source": [
    "df.info()"
   ]
  },
  {
   "cell_type": "markdown",
   "metadata": {},
   "source": [
    "### Preparing and Cleaning Data"
   ]
  },
  {
   "cell_type": "code",
   "execution_count": 5,
   "metadata": {},
   "outputs": [],
   "source": [
    "def rename_column_names(col):\n",
    "    return col.lower().replace(' ', '_').replace('-', '_')"
   ]
  },
  {
   "cell_type": "code",
   "execution_count": 6,
   "metadata": {
    "scrolled": true
   },
   "outputs": [],
   "source": [
    "new_columns = []\n",
    "for col in df.columns:\n",
    "    new_columns.append(rename_column_names(col))\n",
    "    \n",
    "df.columns = new_columns"
   ]
  },
  {
   "cell_type": "markdown",
   "metadata": {},
   "source": [
    "**First, the object type columns**"
   ]
  },
  {
   "cell_type": "code",
   "execution_count": 7,
   "metadata": {
    "scrolled": false
   },
   "outputs": [
    {
     "data": {
      "text/html": [
       "<div>\n",
       "<style scoped>\n",
       "    .dataframe tbody tr th:only-of-type {\n",
       "        vertical-align: middle;\n",
       "    }\n",
       "\n",
       "    .dataframe tbody tr th {\n",
       "        vertical-align: top;\n",
       "    }\n",
       "\n",
       "    .dataframe thead th {\n",
       "        text-align: right;\n",
       "    }\n",
       "</style>\n",
       "<table border=\"1\" class=\"dataframe\">\n",
       "  <thead>\n",
       "    <tr style=\"text-align: right;\">\n",
       "      <th></th>\n",
       "      <th>neighborhood</th>\n",
       "      <th>building_class_category</th>\n",
       "      <th>tax_class_at_present</th>\n",
       "      <th>ease_ment</th>\n",
       "      <th>building_class_at_present</th>\n",
       "      <th>address</th>\n",
       "      <th>apartment_number</th>\n",
       "      <th>building_class_at_time_of_sale</th>\n",
       "      <th>sale_date</th>\n",
       "    </tr>\n",
       "  </thead>\n",
       "  <tbody>\n",
       "    <tr>\n",
       "      <th>0</th>\n",
       "      <td>ALPHABET CITY</td>\n",
       "      <td>07 RENTALS - WALKUP APARTMENTS</td>\n",
       "      <td>2A</td>\n",
       "      <td></td>\n",
       "      <td>C2</td>\n",
       "      <td>153 AVENUE B</td>\n",
       "      <td></td>\n",
       "      <td>C2</td>\n",
       "      <td>2017-07-19 00:00:00</td>\n",
       "    </tr>\n",
       "    <tr>\n",
       "      <th>1</th>\n",
       "      <td>ALPHABET CITY</td>\n",
       "      <td>07 RENTALS - WALKUP APARTMENTS</td>\n",
       "      <td>2</td>\n",
       "      <td></td>\n",
       "      <td>C7</td>\n",
       "      <td>234 EAST 4TH   STREET</td>\n",
       "      <td></td>\n",
       "      <td>C7</td>\n",
       "      <td>2016-12-14 00:00:00</td>\n",
       "    </tr>\n",
       "    <tr>\n",
       "      <th>2</th>\n",
       "      <td>ALPHABET CITY</td>\n",
       "      <td>07 RENTALS - WALKUP APARTMENTS</td>\n",
       "      <td>2</td>\n",
       "      <td></td>\n",
       "      <td>C7</td>\n",
       "      <td>197 EAST 3RD   STREET</td>\n",
       "      <td></td>\n",
       "      <td>C7</td>\n",
       "      <td>2016-12-09 00:00:00</td>\n",
       "    </tr>\n",
       "    <tr>\n",
       "      <th>3</th>\n",
       "      <td>ALPHABET CITY</td>\n",
       "      <td>07 RENTALS - WALKUP APARTMENTS</td>\n",
       "      <td>2B</td>\n",
       "      <td></td>\n",
       "      <td>C4</td>\n",
       "      <td>154 EAST 7TH STREET</td>\n",
       "      <td></td>\n",
       "      <td>C4</td>\n",
       "      <td>2016-09-23 00:00:00</td>\n",
       "    </tr>\n",
       "    <tr>\n",
       "      <th>4</th>\n",
       "      <td>ALPHABET CITY</td>\n",
       "      <td>07 RENTALS - WALKUP APARTMENTS</td>\n",
       "      <td>2A</td>\n",
       "      <td></td>\n",
       "      <td>C2</td>\n",
       "      <td>301 EAST 10TH   STREET</td>\n",
       "      <td></td>\n",
       "      <td>C2</td>\n",
       "      <td>2016-11-17 00:00:00</td>\n",
       "    </tr>\n",
       "  </tbody>\n",
       "</table>\n",
       "</div>"
      ],
      "text/plain": [
       "    neighborhood                      building_class_category  \\\n",
       "0  ALPHABET CITY  07 RENTALS - WALKUP APARTMENTS                \n",
       "1  ALPHABET CITY  07 RENTALS - WALKUP APARTMENTS                \n",
       "2  ALPHABET CITY  07 RENTALS - WALKUP APARTMENTS                \n",
       "3  ALPHABET CITY  07 RENTALS - WALKUP APARTMENTS                \n",
       "4  ALPHABET CITY  07 RENTALS - WALKUP APARTMENTS                \n",
       "\n",
       "  tax_class_at_present ease_ment building_class_at_present  \\\n",
       "0                   2A                                  C2   \n",
       "1                    2                                  C7   \n",
       "2                    2                                  C7   \n",
       "3                   2B                                  C4   \n",
       "4                   2A                                  C2   \n",
       "\n",
       "                  address apartment_number building_class_at_time_of_sale  \\\n",
       "0            153 AVENUE B                                              C2   \n",
       "1   234 EAST 4TH   STREET                                              C7   \n",
       "2   197 EAST 3RD   STREET                                              C7   \n",
       "3     154 EAST 7TH STREET                                              C4   \n",
       "4  301 EAST 10TH   STREET                                              C2   \n",
       "\n",
       "             sale_date  \n",
       "0  2017-07-19 00:00:00  \n",
       "1  2016-12-14 00:00:00  \n",
       "2  2016-12-09 00:00:00  \n",
       "3  2016-09-23 00:00:00  \n",
       "4  2016-11-17 00:00:00  "
      ]
     },
     "execution_count": 7,
     "metadata": {},
     "output_type": "execute_result"
    }
   ],
   "source": [
    "df_object = df.select_dtypes('object')\n",
    "df_object.head()"
   ]
  },
  {
   "cell_type": "code",
   "execution_count": 8,
   "metadata": {
    "scrolled": false
   },
   "outputs": [
    {
     "data": {
      "text/plain": [
       "<matplotlib.axes._subplots.AxesSubplot at 0x7f80557d46d0>"
      ]
     },
     "execution_count": 8,
     "metadata": {},
     "output_type": "execute_result"
    },
    {
     "data": {
      "image/png": "[encoded data removed]",
      "text/plain": [
       "<Figure size 432x288 with 1 Axes>"
      ]
     },
     "metadata": {
      "needs_background": "light"
     },
     "output_type": "display_data"
    }
   ],
   "source": [
    "sns.heatmap(df_object.isnull(), cbar=False)"
   ]
  },
  {
   "cell_type": "code",
   "execution_count": 9,
   "metadata": {
    "scrolled": true
   },
   "outputs": [
    {
     "data": {
      "text/plain": [
       "array([' '], dtype=object)"
      ]
     },
     "execution_count": 9,
     "metadata": {},
     "output_type": "execute_result"
    }
   ],
   "source": [
    "df_object.ease_ment.unique()"
   ]
  },
  {
   "cell_type": "markdown",
   "metadata": {},
   "source": [
    "    A feature \"ease_ment\" não possui nenhum valor relevante para análise, neste caso vou excluí-la do dataframe junto com a feature \"sale_date\"."
   ]
  },
  {
   "cell_type": "code",
   "execution_count": 10,
   "metadata": {},
   "outputs": [
    {
     "name": "stderr",
     "output_type": "stream",
     "text": [
      "/home/guilherme/anaconda3/lib/python3.7/site-packages/pandas/core/frame.py:3997: SettingWithCopyWarning: \n",
      "A value is trying to be set on a copy of a slice from a DataFrame\n",
      "\n",
      "See the caveats in the documentation: https://pandas.pydata.org/pandas-docs/stable/user_guide/indexing.html#returning-a-view-versus-a-copy\n",
      "  errors=errors,\n"
     ]
    }
   ],
   "source": [
    "df_object.drop(columns=['ease_ment'], inplace=True)\n",
    "df.drop(columns=['ease_ment'], inplace=True)\n",
    "\n",
    "df_object.drop(columns=['sale_date'], inplace=True)\n",
    "df.drop(columns=['sale_date'], inplace=True)"
   ]
  },
  {
   "cell_type": "code",
   "execution_count": 11,
   "metadata": {},
   "outputs": [
    {
     "data": {
      "text/plain": [
       "         65496\n",
       "4          298\n",
       "3A         295\n",
       "3B         275\n",
       "2          275\n",
       "         ...  \n",
       "3J1          1\n",
       "LA           1\n",
       "NT68A        1\n",
       "5-G          1\n",
       "22J          1\n",
       "Name: apartment_number, Length: 3989, dtype: int64"
      ]
     },
     "execution_count": 11,
     "metadata": {},
     "output_type": "execute_result"
    }
   ],
   "source": [
    "df_object['apartment_number'].value_counts()"
   ]
  },
  {
   "cell_type": "markdown",
   "metadata": {},
   "source": [
    "    Essa coluna nos diz que grande parte(65496) dos registros da base não possuem um número de apartamento, ou seja, não são apartamentos podendo ser casas residenciais ou comércios. Talvez, para efeito de análise podemos criar uma nova feature baseada em \"apartment_number\" que nos diz se o registro é uma casa ou um apartamento.\n",
    "\n",
    "**Cleaning the numerical features**"
   ]
  },
  {
   "cell_type": "code",
   "execution_count": 12,
   "metadata": {
    "scrolled": true
   },
   "outputs": [
    {
     "data": {
      "text/html": [
       "<div>\n",
       "<style scoped>\n",
       "    .dataframe tbody tr th:only-of-type {\n",
       "        vertical-align: middle;\n",
       "    }\n",
       "\n",
       "    .dataframe tbody tr th {\n",
       "        vertical-align: top;\n",
       "    }\n",
       "\n",
       "    .dataframe thead th {\n",
       "        text-align: right;\n",
       "    }\n",
       "</style>\n",
       "<table border=\"1\" class=\"dataframe\">\n",
       "  <thead>\n",
       "    <tr style=\"text-align: right;\">\n",
       "      <th></th>\n",
       "      <th>unnamed:_0</th>\n",
       "      <th>borough</th>\n",
       "      <th>block</th>\n",
       "      <th>lot</th>\n",
       "      <th>zip_code</th>\n",
       "      <th>residential_units</th>\n",
       "      <th>commercial_units</th>\n",
       "      <th>total_units</th>\n",
       "      <th>land_square_feet</th>\n",
       "      <th>gross_square_feet</th>\n",
       "      <th>year_built</th>\n",
       "      <th>tax_class_at_time_of_sale</th>\n",
       "      <th>sale_price</th>\n",
       "    </tr>\n",
       "  </thead>\n",
       "  <tbody>\n",
       "    <tr>\n",
       "      <th>0</th>\n",
       "      <td>4</td>\n",
       "      <td>1</td>\n",
       "      <td>392</td>\n",
       "      <td>6</td>\n",
       "      <td>10009</td>\n",
       "      <td>5</td>\n",
       "      <td>0</td>\n",
       "      <td>5</td>\n",
       "      <td>1633.0</td>\n",
       "      <td>6440.0</td>\n",
       "      <td>1900</td>\n",
       "      <td>2</td>\n",
       "      <td>6625000.0</td>\n",
       "    </tr>\n",
       "    <tr>\n",
       "      <th>1</th>\n",
       "      <td>5</td>\n",
       "      <td>1</td>\n",
       "      <td>399</td>\n",
       "      <td>26</td>\n",
       "      <td>10009</td>\n",
       "      <td>28</td>\n",
       "      <td>3</td>\n",
       "      <td>31</td>\n",
       "      <td>4616.0</td>\n",
       "      <td>18690.0</td>\n",
       "      <td>1900</td>\n",
       "      <td>2</td>\n",
       "      <td>NaN</td>\n",
       "    </tr>\n",
       "    <tr>\n",
       "      <th>2</th>\n",
       "      <td>6</td>\n",
       "      <td>1</td>\n",
       "      <td>399</td>\n",
       "      <td>39</td>\n",
       "      <td>10009</td>\n",
       "      <td>16</td>\n",
       "      <td>1</td>\n",
       "      <td>17</td>\n",
       "      <td>2212.0</td>\n",
       "      <td>7803.0</td>\n",
       "      <td>1900</td>\n",
       "      <td>2</td>\n",
       "      <td>NaN</td>\n",
       "    </tr>\n",
       "    <tr>\n",
       "      <th>3</th>\n",
       "      <td>7</td>\n",
       "      <td>1</td>\n",
       "      <td>402</td>\n",
       "      <td>21</td>\n",
       "      <td>10009</td>\n",
       "      <td>10</td>\n",
       "      <td>0</td>\n",
       "      <td>10</td>\n",
       "      <td>2272.0</td>\n",
       "      <td>6794.0</td>\n",
       "      <td>1913</td>\n",
       "      <td>2</td>\n",
       "      <td>3936272.0</td>\n",
       "    </tr>\n",
       "    <tr>\n",
       "      <th>4</th>\n",
       "      <td>8</td>\n",
       "      <td>1</td>\n",
       "      <td>404</td>\n",
       "      <td>55</td>\n",
       "      <td>10009</td>\n",
       "      <td>6</td>\n",
       "      <td>0</td>\n",
       "      <td>6</td>\n",
       "      <td>2369.0</td>\n",
       "      <td>4615.0</td>\n",
       "      <td>1900</td>\n",
       "      <td>2</td>\n",
       "      <td>8000000.0</td>\n",
       "    </tr>\n",
       "  </tbody>\n",
       "</table>\n",
       "</div>"
      ],
      "text/plain": [
       "   unnamed:_0  borough  block  lot  zip_code  residential_units  \\\n",
       "0           4        1    392    6     10009                  5   \n",
       "1           5        1    399   26     10009                 28   \n",
       "2           6        1    399   39     10009                 16   \n",
       "3           7        1    402   21     10009                 10   \n",
       "4           8        1    404   55     10009                  6   \n",
       "\n",
       "   commercial_units  total_units  land_square_feet  gross_square_feet  \\\n",
       "0                 0            5            1633.0             6440.0   \n",
       "1                 3           31            4616.0            18690.0   \n",
       "2                 1           17            2212.0             7803.0   \n",
       "3                 0           10            2272.0             6794.0   \n",
       "4                 0            6            2369.0             4615.0   \n",
       "\n",
       "   year_built  tax_class_at_time_of_sale  sale_price  \n",
       "0        1900                          2   6625000.0  \n",
       "1        1900                          2         NaN  \n",
       "2        1900                          2         NaN  \n",
       "3        1913                          2   3936272.0  \n",
       "4        1900                          2   8000000.0  "
      ]
     },
     "execution_count": 12,
     "metadata": {},
     "output_type": "execute_result"
    }
   ],
   "source": [
    "df_numerical = df.select_dtypes('number')\n",
    "df_numerical.head()"
   ]
  },
  {
   "cell_type": "markdown",
   "metadata": {},
   "source": [
    "    Aqui é notável que as features \"total_units\" é a soma de \"residentual_units\" e \"commercial_units\", portanto vamos utilizar somente a feature \"total_units\"."
   ]
  },
  {
   "cell_type": "code",
   "execution_count": 13,
   "metadata": {},
   "outputs": [
    {
     "name": "stderr",
     "output_type": "stream",
     "text": [
      "/home/guilherme/anaconda3/lib/python3.7/site-packages/pandas/core/frame.py:3997: SettingWithCopyWarning: \n",
      "A value is trying to be set on a copy of a slice from a DataFrame\n",
      "\n",
      "See the caveats in the documentation: https://pandas.pydata.org/pandas-docs/stable/user_guide/indexing.html#returning-a-view-versus-a-copy\n",
      "  errors=errors,\n"
     ]
    }
   ],
   "source": [
    "df_numerical.drop('unnamed:_0', axis=1, inplace=True)\n",
    "df.drop('unnamed:_0', axis=1, inplace=True)\n",
    "\n",
    "df_numerical.drop('residential_units', axis=1, inplace=True)\n",
    "df.drop('residential_units', axis=1, inplace=True)\n",
    "\n",
    "df_numerical.drop('commercial_units', axis=1, inplace=True)\n",
    "df.drop('commercial_units', axis=1, inplace=True)\n",
    "\n",
    "df_numerical.drop('zip_code', axis=1, inplace=True)\n",
    "df.drop('zip_code', axis=1, inplace=True)"
   ]
  },
  {
   "cell_type": "code",
   "execution_count": 14,
   "metadata": {
    "scrolled": false
   },
   "outputs": [
    {
     "data": {
      "text/plain": [
       "<matplotlib.axes._subplots.AxesSubplot at 0x7f80518788d0>"
      ]
     },
     "execution_count": 14,
     "metadata": {},
     "output_type": "execute_result"
    },
    {
     "data": {
      "image/png": "[encoded data removed]",
      "text/plain": [
       "<Figure size 432x288 with 1 Axes>"
      ]
     },
     "metadata": {
      "needs_background": "light"
     },
     "output_type": "display_data"
    }
   ],
   "source": [
    "sns.heatmap(df_numerical.isnull(), cbar=False)"
   ]
  },
  {
   "cell_type": "code",
   "execution_count": 15,
   "metadata": {
    "scrolled": true
   },
   "outputs": [
    {
     "name": "stdout",
     "output_type": "stream",
     "text": [
      "land_square_feet: 31.05% of null values\n",
      "gross_square_feet: 32.66% of null values\n",
      "sale_price: 17.22% of null values\n"
     ]
    }
   ],
   "source": [
    "null_cols = ['land_square_feet', 'gross_square_feet', 'sale_price']\n",
    "\n",
    "for col in null_cols:\n",
    "    print(\"{}: {:.2f}% of null values\".format(col, (df[col].isnull().sum() / len(df[col]) * 100)))"
   ]
  },
  {
   "cell_type": "markdown",
   "metadata": {},
   "source": [
    "### Data Inspection\n",
    "\n",
    "    Aqui vamos explorar como as variáveis se comportam em relação à nossa variável alvo, no caso, sale_price."
   ]
  },
  {
   "cell_type": "code",
   "execution_count": 16,
   "metadata": {},
   "outputs": [
    {
     "data": {
      "text/html": [
       "<div>\n",
       "<style scoped>\n",
       "    .dataframe tbody tr th:only-of-type {\n",
       "        vertical-align: middle;\n",
       "    }\n",
       "\n",
       "    .dataframe tbody tr th {\n",
       "        vertical-align: top;\n",
       "    }\n",
       "\n",
       "    .dataframe thead th {\n",
       "        text-align: right;\n",
       "    }\n",
       "</style>\n",
       "<table border=\"1\" class=\"dataframe\">\n",
       "  <thead>\n",
       "    <tr style=\"text-align: right;\">\n",
       "      <th></th>\n",
       "      <th>borough</th>\n",
       "      <th>neighborhood</th>\n",
       "      <th>building_class_category</th>\n",
       "      <th>tax_class_at_present</th>\n",
       "      <th>block</th>\n",
       "      <th>lot</th>\n",
       "      <th>building_class_at_present</th>\n",
       "      <th>address</th>\n",
       "      <th>apartment_number</th>\n",
       "      <th>total_units</th>\n",
       "      <th>land_square_feet</th>\n",
       "      <th>gross_square_feet</th>\n",
       "      <th>year_built</th>\n",
       "      <th>tax_class_at_time_of_sale</th>\n",
       "      <th>building_class_at_time_of_sale</th>\n",
       "      <th>sale_price</th>\n",
       "    </tr>\n",
       "  </thead>\n",
       "  <tbody>\n",
       "    <tr>\n",
       "      <th>0</th>\n",
       "      <td>1</td>\n",
       "      <td>ALPHABET CITY</td>\n",
       "      <td>07 RENTALS - WALKUP APARTMENTS</td>\n",
       "      <td>2A</td>\n",
       "      <td>392</td>\n",
       "      <td>6</td>\n",
       "      <td>C2</td>\n",
       "      <td>153 AVENUE B</td>\n",
       "      <td></td>\n",
       "      <td>5</td>\n",
       "      <td>1633.0</td>\n",
       "      <td>6440.0</td>\n",
       "      <td>1900</td>\n",
       "      <td>2</td>\n",
       "      <td>C2</td>\n",
       "      <td>6625000.0</td>\n",
       "    </tr>\n",
       "    <tr>\n",
       "      <th>1</th>\n",
       "      <td>1</td>\n",
       "      <td>ALPHABET CITY</td>\n",
       "      <td>07 RENTALS - WALKUP APARTMENTS</td>\n",
       "      <td>2</td>\n",
       "      <td>399</td>\n",
       "      <td>26</td>\n",
       "      <td>C7</td>\n",
       "      <td>234 EAST 4TH   STREET</td>\n",
       "      <td></td>\n",
       "      <td>31</td>\n",
       "      <td>4616.0</td>\n",
       "      <td>18690.0</td>\n",
       "      <td>1900</td>\n",
       "      <td>2</td>\n",
       "      <td>C7</td>\n",
       "      <td>NaN</td>\n",
       "    </tr>\n",
       "    <tr>\n",
       "      <th>2</th>\n",
       "      <td>1</td>\n",
       "      <td>ALPHABET CITY</td>\n",
       "      <td>07 RENTALS - WALKUP APARTMENTS</td>\n",
       "      <td>2</td>\n",
       "      <td>399</td>\n",
       "      <td>39</td>\n",
       "      <td>C7</td>\n",
       "      <td>197 EAST 3RD   STREET</td>\n",
       "      <td></td>\n",
       "      <td>17</td>\n",
       "      <td>2212.0</td>\n",
       "      <td>7803.0</td>\n",
       "      <td>1900</td>\n",
       "      <td>2</td>\n",
       "      <td>C7</td>\n",
       "      <td>NaN</td>\n",
       "    </tr>\n",
       "    <tr>\n",
       "      <th>3</th>\n",
       "      <td>1</td>\n",
       "      <td>ALPHABET CITY</td>\n",
       "      <td>07 RENTALS - WALKUP APARTMENTS</td>\n",
       "      <td>2B</td>\n",
       "      <td>402</td>\n",
       "      <td>21</td>\n",
       "      <td>C4</td>\n",
       "      <td>154 EAST 7TH STREET</td>\n",
       "      <td></td>\n",
       "      <td>10</td>\n",
       "      <td>2272.0</td>\n",
       "      <td>6794.0</td>\n",
       "      <td>1913</td>\n",
       "      <td>2</td>\n",
       "      <td>C4</td>\n",
       "      <td>3936272.0</td>\n",
       "    </tr>\n",
       "    <tr>\n",
       "      <th>4</th>\n",
       "      <td>1</td>\n",
       "      <td>ALPHABET CITY</td>\n",
       "      <td>07 RENTALS - WALKUP APARTMENTS</td>\n",
       "      <td>2A</td>\n",
       "      <td>404</td>\n",
       "      <td>55</td>\n",
       "      <td>C2</td>\n",
       "      <td>301 EAST 10TH   STREET</td>\n",
       "      <td></td>\n",
       "      <td>6</td>\n",
       "      <td>2369.0</td>\n",
       "      <td>4615.0</td>\n",
       "      <td>1900</td>\n",
       "      <td>2</td>\n",
       "      <td>C2</td>\n",
       "      <td>8000000.0</td>\n",
       "    </tr>\n",
       "  </tbody>\n",
       "</table>\n",
       "</div>"
      ],
      "text/plain": [
       "   borough   neighborhood                      building_class_category  \\\n",
       "0        1  ALPHABET CITY  07 RENTALS - WALKUP APARTMENTS                \n",
       "1        1  ALPHABET CITY  07 RENTALS - WALKUP APARTMENTS                \n",
       "2        1  ALPHABET CITY  07 RENTALS - WALKUP APARTMENTS                \n",
       "3        1  ALPHABET CITY  07 RENTALS - WALKUP APARTMENTS                \n",
       "4        1  ALPHABET CITY  07 RENTALS - WALKUP APARTMENTS                \n",
       "\n",
       "  tax_class_at_present  block  lot building_class_at_present  \\\n",
       "0                   2A    392    6                        C2   \n",
       "1                    2    399   26                        C7   \n",
       "2                    2    399   39                        C7   \n",
       "3                   2B    402   21                        C4   \n",
       "4                   2A    404   55                        C2   \n",
       "\n",
       "                  address apartment_number  total_units  land_square_feet  \\\n",
       "0            153 AVENUE B                             5            1633.0   \n",
       "1   234 EAST 4TH   STREET                            31            4616.0   \n",
       "2   197 EAST 3RD   STREET                            17            2212.0   \n",
       "3     154 EAST 7TH STREET                            10            2272.0   \n",
       "4  301 EAST 10TH   STREET                             6            2369.0   \n",
       "\n",
       "   gross_square_feet  year_built  tax_class_at_time_of_sale  \\\n",
       "0             6440.0        1900                          2   \n",
       "1            18690.0        1900                          2   \n",
       "2             7803.0        1900                          2   \n",
       "3             6794.0        1913                          2   \n",
       "4             4615.0        1900                          2   \n",
       "\n",
       "  building_class_at_time_of_sale  sale_price  \n",
       "0                             C2   6625000.0  \n",
       "1                             C7         NaN  \n",
       "2                             C7         NaN  \n",
       "3                             C4   3936272.0  \n",
       "4                             C2   8000000.0  "
      ]
     },
     "execution_count": 16,
     "metadata": {},
     "output_type": "execute_result"
    }
   ],
   "source": [
    "df.head()"
   ]
  },
  {
   "cell_type": "code",
   "execution_count": 17,
   "metadata": {},
   "outputs": [
    {
     "data": {
      "text/html": [
       "<div>\n",
       "<style scoped>\n",
       "    .dataframe tbody tr th:only-of-type {\n",
       "        vertical-align: middle;\n",
       "    }\n",
       "\n",
       "    .dataframe tbody tr th {\n",
       "        vertical-align: top;\n",
       "    }\n",
       "\n",
       "    .dataframe thead th {\n",
       "        text-align: right;\n",
       "    }\n",
       "</style>\n",
       "<table border=\"1\" class=\"dataframe\">\n",
       "  <thead>\n",
       "    <tr style=\"text-align: right;\">\n",
       "      <th></th>\n",
       "      <th>count</th>\n",
       "      <th>mean</th>\n",
       "      <th>std</th>\n",
       "      <th>min</th>\n",
       "      <th>25%</th>\n",
       "      <th>50%</th>\n",
       "      <th>75%</th>\n",
       "      <th>max</th>\n",
       "    </tr>\n",
       "  </thead>\n",
       "  <tbody>\n",
       "    <tr>\n",
       "      <th>borough</th>\n",
       "      <td>84548.0</td>\n",
       "      <td>2.998758e+00</td>\n",
       "      <td>1.289790e+00</td>\n",
       "      <td>1.0</td>\n",
       "      <td>2.00</td>\n",
       "      <td>3.0</td>\n",
       "      <td>4.0</td>\n",
       "      <td>5.000000e+00</td>\n",
       "    </tr>\n",
       "    <tr>\n",
       "      <th>block</th>\n",
       "      <td>84548.0</td>\n",
       "      <td>4.237219e+03</td>\n",
       "      <td>3.568263e+03</td>\n",
       "      <td>1.0</td>\n",
       "      <td>1322.75</td>\n",
       "      <td>3311.0</td>\n",
       "      <td>6281.0</td>\n",
       "      <td>1.632200e+04</td>\n",
       "    </tr>\n",
       "    <tr>\n",
       "      <th>lot</th>\n",
       "      <td>84548.0</td>\n",
       "      <td>3.762240e+02</td>\n",
       "      <td>6.581368e+02</td>\n",
       "      <td>1.0</td>\n",
       "      <td>22.00</td>\n",
       "      <td>50.0</td>\n",
       "      <td>1001.0</td>\n",
       "      <td>9.106000e+03</td>\n",
       "    </tr>\n",
       "    <tr>\n",
       "      <th>total_units</th>\n",
       "      <td>84548.0</td>\n",
       "      <td>2.249184e+00</td>\n",
       "      <td>1.897258e+01</td>\n",
       "      <td>0.0</td>\n",
       "      <td>1.00</td>\n",
       "      <td>1.0</td>\n",
       "      <td>2.0</td>\n",
       "      <td>2.261000e+03</td>\n",
       "    </tr>\n",
       "    <tr>\n",
       "      <th>land_square_feet</th>\n",
       "      <td>58296.0</td>\n",
       "      <td>3.941676e+03</td>\n",
       "      <td>4.198397e+04</td>\n",
       "      <td>0.0</td>\n",
       "      <td>1650.00</td>\n",
       "      <td>2325.0</td>\n",
       "      <td>3500.0</td>\n",
       "      <td>4.252327e+06</td>\n",
       "    </tr>\n",
       "    <tr>\n",
       "      <th>gross_square_feet</th>\n",
       "      <td>56936.0</td>\n",
       "      <td>4.045707e+03</td>\n",
       "      <td>3.503249e+04</td>\n",
       "      <td>0.0</td>\n",
       "      <td>1046.75</td>\n",
       "      <td>1680.0</td>\n",
       "      <td>2560.0</td>\n",
       "      <td>3.750565e+06</td>\n",
       "    </tr>\n",
       "    <tr>\n",
       "      <th>year_built</th>\n",
       "      <td>84548.0</td>\n",
       "      <td>1.789323e+03</td>\n",
       "      <td>5.373450e+02</td>\n",
       "      <td>0.0</td>\n",
       "      <td>1920.00</td>\n",
       "      <td>1940.0</td>\n",
       "      <td>1965.0</td>\n",
       "      <td>2.017000e+03</td>\n",
       "    </tr>\n",
       "    <tr>\n",
       "      <th>tax_class_at_time_of_sale</th>\n",
       "      <td>84548.0</td>\n",
       "      <td>1.657485e+00</td>\n",
       "      <td>8.193412e-01</td>\n",
       "      <td>1.0</td>\n",
       "      <td>1.00</td>\n",
       "      <td>2.0</td>\n",
       "      <td>2.0</td>\n",
       "      <td>4.000000e+00</td>\n",
       "    </tr>\n",
       "    <tr>\n",
       "      <th>sale_price</th>\n",
       "      <td>69987.0</td>\n",
       "      <td>1.276456e+06</td>\n",
       "      <td>1.140526e+07</td>\n",
       "      <td>0.0</td>\n",
       "      <td>225000.00</td>\n",
       "      <td>530000.0</td>\n",
       "      <td>950000.0</td>\n",
       "      <td>2.210000e+09</td>\n",
       "    </tr>\n",
       "  </tbody>\n",
       "</table>\n",
       "</div>"
      ],
      "text/plain": [
       "                             count          mean           std  min  \\\n",
       "borough                    84548.0  2.998758e+00  1.289790e+00  1.0   \n",
       "block                      84548.0  4.237219e+03  3.568263e+03  1.0   \n",
       "lot                        84548.0  3.762240e+02  6.581368e+02  1.0   \n",
       "total_units                84548.0  2.249184e+00  1.897258e+01  0.0   \n",
       "land_square_feet           58296.0  3.941676e+03  4.198397e+04  0.0   \n",
       "gross_square_feet          56936.0  4.045707e+03  3.503249e+04  0.0   \n",
       "year_built                 84548.0  1.789323e+03  5.373450e+02  0.0   \n",
       "tax_class_at_time_of_sale  84548.0  1.657485e+00  8.193412e-01  1.0   \n",
       "sale_price                 69987.0  1.276456e+06  1.140526e+07  0.0   \n",
       "\n",
       "                                 25%       50%       75%           max  \n",
       "borough                         2.00       3.0       4.0  5.000000e+00  \n",
       "block                        1322.75    3311.0    6281.0  1.632200e+04  \n",
       "lot                            22.00      50.0    1001.0  9.106000e+03  \n",
       "total_units                     1.00       1.0       2.0  2.261000e+03  \n",
       "land_square_feet             1650.00    2325.0    3500.0  4.252327e+06  \n",
       "gross_square_feet            1046.75    1680.0    2560.0  3.750565e+06  \n",
       "year_built                   1920.00    1940.0    1965.0  2.017000e+03  \n",
       "tax_class_at_time_of_sale       1.00       2.0       2.0  4.000000e+00  \n",
       "sale_price                 225000.00  530000.0  950000.0  2.210000e+09  "
      ]
     },
     "execution_count": 17,
     "metadata": {},
     "output_type": "execute_result"
    }
   ],
   "source": [
    "df.describe().transpose()"
   ]
  },
  {
   "cell_type": "code",
   "execution_count": 18,
   "metadata": {
    "scrolled": false
   },
   "outputs": [
    {
     "data": {
      "text/plain": [
       "<matplotlib.axes._subplots.AxesSubplot at 0x7f8051823b50>"
      ]
     },
     "execution_count": 18,
     "metadata": {},
     "output_type": "execute_result"
    },
    {
     "data": {
      "image/png": "[encoded data removed]",
      "text/plain": [
       "<Figure size 432x288 with 1 Axes>"
      ]
     },
     "metadata": {
      "needs_background": "light"
     },
     "output_type": "display_data"
    }
   ],
   "source": [
    "sns.distplot(df['sale_price'])"
   ]
  },
  {
   "cell_type": "markdown",
   "metadata": {},
   "source": [
    "    Após alguns testes, usar o limite inferior 100000 foi mais efetivo do que utilizar o quartil 0.05 para que se tenha uma distribuição mais próxima a normal.\n",
    "\n",
    "    Aqui foi utilizado o 95 quartil pois os modelos foram mais assertivos quando comparado ao 99 quartil."
   ]
  },
  {
   "cell_type": "code",
   "execution_count": 19,
   "metadata": {},
   "outputs": [
    {
     "data": {
      "text/plain": [
       "1.821455451597566"
      ]
     },
     "execution_count": 19,
     "metadata": {},
     "output_type": "execute_result"
    }
   ],
   "source": [
    "q95 = df['sale_price'].quantile(0.95)\n",
    "# q05 = df['sale_price'].quantile(0.05)\n",
    "\n",
    "df = df[(df['sale_price'] > 100000) & (df['sale_price'] < q95)]\n",
    "df['sale_price'].skew()"
   ]
  },
  {
   "cell_type": "code",
   "execution_count": 20,
   "metadata": {
    "scrolled": false
   },
   "outputs": [
    {
     "data": {
      "text/plain": [
       "<matplotlib.axes._subplots.AxesSubplot at 0x7f804b408090>"
      ]
     },
     "execution_count": 20,
     "metadata": {},
     "output_type": "execute_result"
    },
    {
     "data": {
      "image/png": "[encoded data removed]",
      "text/plain": [
       "<Figure size 432x288 with 1 Axes>"
      ]
     },
     "metadata": {
      "needs_background": "light"
     },
     "output_type": "display_data"
    }
   ],
   "source": [
    "sns.distplot(df['sale_price'])"
   ]
  },
  {
   "cell_type": "markdown",
   "metadata": {},
   "source": [
    "    Temos uma distribuição assimétrica à direita. Aqui é aplicado a transformação log(x) para diminuição da skewness com a finalidade"
   ]
  },
  {
   "cell_type": "code",
   "execution_count": 21,
   "metadata": {},
   "outputs": [],
   "source": [
    "df['sale_price_log'] = np.log(df['sale_price'])"
   ]
  },
  {
   "cell_type": "code",
   "execution_count": 22,
   "metadata": {
    "scrolled": true
   },
   "outputs": [
    {
     "name": "stdout",
     "output_type": "stream",
     "text": [
      "Skewness: 0.02929983378399524\n",
      "Kurtosis: -0.268805869152394\n"
     ]
    },
    {
     "data": {
      "image/png": "[encoded data removed]",
      "text/plain": [
       "<Figure size 432x288 with 1 Axes>"
      ]
     },
     "metadata": {
      "needs_background": "light"
     },
     "output_type": "display_data"
    }
   ],
   "source": [
    "sns.distplot(df['sale_price_log'])\n",
    "\n",
    "print(\"Skewness: {}\\nKurtosis: {}\".format(df['sale_price_log'].skew(), df['sale_price_log'].kurtosis()))"
   ]
  },
  {
   "cell_type": "markdown",
   "metadata": {},
   "source": [
    "Fazendo o mesmo para as features land_square_feet e gross_square_feet"
   ]
  },
  {
   "cell_type": "code",
   "execution_count": 23,
   "metadata": {},
   "outputs": [],
   "source": [
    "q99 = df['land_square_feet'].quantile(0.99)\n",
    "q05 = df['land_square_feet'].quantile(0.05)\n",
    "\n",
    "df = df[(df['land_square_feet'] > q05) & (df['land_square_feet'] < q99)]"
   ]
  },
  {
   "cell_type": "code",
   "execution_count": 24,
   "metadata": {
    "scrolled": true
   },
   "outputs": [
    {
     "data": {
      "text/plain": [
       "1.881758146988164"
      ]
     },
     "execution_count": 24,
     "metadata": {},
     "output_type": "execute_result"
    },
    {
     "data": {
      "image/png": "[encoded data removed]",
      "text/plain": [
       "<Figure size 432x288 with 1 Axes>"
      ]
     },
     "metadata": {
      "needs_background": "light"
     },
     "output_type": "display_data"
    }
   ],
   "source": [
    "sns.distplot(df['land_square_feet'])\n",
    "df['land_square_feet'].skew()"
   ]
  },
  {
   "cell_type": "code",
   "execution_count": 25,
   "metadata": {},
   "outputs": [],
   "source": [
    "df['land_square_feet_log'] = np.log(df['land_square_feet'])"
   ]
  },
  {
   "cell_type": "code",
   "execution_count": 26,
   "metadata": {
    "scrolled": false
   },
   "outputs": [
    {
     "data": {
      "text/plain": [
       "0.1896296813233"
      ]
     },
     "execution_count": 26,
     "metadata": {},
     "output_type": "execute_result"
    },
    {
     "data": {
      "image/png": "[encoded data removed]",
      "text/plain": [
       "<Figure size 432x288 with 1 Axes>"
      ]
     },
     "metadata": {
      "needs_background": "light"
     },
     "output_type": "display_data"
    }
   ],
   "source": [
    "sns.distplot(df['land_square_feet_log'])\n",
    "df['land_square_feet_log'].skew()"
   ]
  },
  {
   "cell_type": "code",
   "execution_count": 27,
   "metadata": {},
   "outputs": [
    {
     "data": {
      "text/plain": [
       "1.8029801189410952"
      ]
     },
     "execution_count": 27,
     "metadata": {},
     "output_type": "execute_result"
    }
   ],
   "source": [
    "q99 = df['gross_square_feet'].quantile(0.99)\n",
    "q05 = df['gross_square_feet'].quantile(0.05)\n",
    "\n",
    "df = df[(df['gross_square_feet'] > q05) & (df['gross_square_feet'] < q99)]\n",
    "df['gross_square_feet'].skew()"
   ]
  },
  {
   "cell_type": "code",
   "execution_count": 28,
   "metadata": {},
   "outputs": [
    {
     "data": {
      "text/plain": [
       "<matplotlib.axes._subplots.AxesSubplot at 0x7f8048c5fe10>"
      ]
     },
     "execution_count": 28,
     "metadata": {},
     "output_type": "execute_result"
    },
    {
     "data": {
      "image/png": "[encoded data removed]",
      "text/plain": [
       "<Figure size 432x288 with 1 Axes>"
      ]
     },
     "metadata": {
      "needs_background": "light"
     },
     "output_type": "display_data"
    }
   ],
   "source": [
    "sns.distplot(df['gross_square_feet'])"
   ]
  },
  {
   "cell_type": "code",
   "execution_count": 29,
   "metadata": {},
   "outputs": [],
   "source": [
    "df['gross_square_feet_log'] = np.log(df['gross_square_feet'])"
   ]
  },
  {
   "cell_type": "code",
   "execution_count": 30,
   "metadata": {
    "scrolled": false
   },
   "outputs": [
    {
     "data": {
      "text/plain": [
       "0.5581566949902116"
      ]
     },
     "execution_count": 30,
     "metadata": {},
     "output_type": "execute_result"
    },
    {
     "data": {
      "image/png": "[encoded data removed]",
      "text/plain": [
       "<Figure size 432x288 with 1 Axes>"
      ]
     },
     "metadata": {
      "needs_background": "light"
     },
     "output_type": "display_data"
    }
   ],
   "source": [
    "sns.distplot(df['gross_square_feet_log'])\n",
    "df['gross_square_feet_log'].skew()"
   ]
  },
  {
   "cell_type": "markdown",
   "metadata": {},
   "source": [
    "    Aqui vemos a relação entre land_square_feet e gross_square_feet"
   ]
  },
  {
   "cell_type": "code",
   "execution_count": 31,
   "metadata": {
    "scrolled": true
   },
   "outputs": [
    {
     "data": {
      "text/plain": [
       "<matplotlib.axes._subplots.AxesSubplot at 0x7f8048acecd0>"
      ]
     },
     "execution_count": 31,
     "metadata": {},
     "output_type": "execute_result"
    },
    {
     "data": {
      "image/png": "[encoded data removed]",
      "text/plain": [
       "<Figure size 432x288 with 1 Axes>"
      ]
     },
     "metadata": {
      "needs_background": "light"
     },
     "output_type": "display_data"
    }
   ],
   "source": [
    "sns.scatterplot(data=df, x='land_square_feet', y='gross_square_feet')"
   ]
  },
  {
   "cell_type": "code",
   "execution_count": 32,
   "metadata": {},
   "outputs": [
    {
     "data": {
      "text/html": [
       "<div>\n",
       "<style scoped>\n",
       "    .dataframe tbody tr th:only-of-type {\n",
       "        vertical-align: middle;\n",
       "    }\n",
       "\n",
       "    .dataframe tbody tr th {\n",
       "        vertical-align: top;\n",
       "    }\n",
       "\n",
       "    .dataframe thead th {\n",
       "        text-align: right;\n",
       "    }\n",
       "</style>\n",
       "<table border=\"1\" class=\"dataframe\">\n",
       "  <thead>\n",
       "    <tr style=\"text-align: right;\">\n",
       "      <th></th>\n",
       "      <th>land_square_feet</th>\n",
       "      <th>gross_square_feet</th>\n",
       "    </tr>\n",
       "  </thead>\n",
       "  <tbody>\n",
       "    <tr>\n",
       "      <th>land_square_feet</th>\n",
       "      <td>1.00000</td>\n",
       "      <td>0.09016</td>\n",
       "    </tr>\n",
       "    <tr>\n",
       "      <th>gross_square_feet</th>\n",
       "      <td>0.09016</td>\n",
       "      <td>1.00000</td>\n",
       "    </tr>\n",
       "  </tbody>\n",
       "</table>\n",
       "</div>"
      ],
      "text/plain": [
       "                   land_square_feet  gross_square_feet\n",
       "land_square_feet            1.00000            0.09016\n",
       "gross_square_feet           0.09016            1.00000"
      ]
     },
     "execution_count": 32,
     "metadata": {},
     "output_type": "execute_result"
    }
   ],
   "source": [
    "df[['land_square_feet', 'gross_square_feet']].corr()"
   ]
  },
  {
   "cell_type": "code",
   "execution_count": 33,
   "metadata": {},
   "outputs": [],
   "source": [
    "borough_dic = {1: \"Manhattan\", 2: \"Bronx\", 3: \"Brooklyn\", 4: \"Queens\", 5: \"Staten Island\"}\n",
    "df['borough_cat'] = df['borough'].map(borough_dic)"
   ]
  },
  {
   "cell_type": "code",
   "execution_count": 34,
   "metadata": {
    "scrolled": true
   },
   "outputs": [
    {
     "data": {
      "text/plain": [
       "Text(0.5, 1.0, 'Borough count')"
      ]
     },
     "execution_count": 34,
     "metadata": {},
     "output_type": "execute_result"
    },
    {
     "data": {
      "image/png": "[encoded data removed]",
      "text/plain": [
       "<Figure size 1152x288 with 1 Axes>"
      ]
     },
     "metadata": {
      "needs_background": "light"
     },
     "output_type": "display_data"
    }
   ],
   "source": [
    "fig, ax = plt.subplots(figsize=(16, 4))\n",
    "sns.countplot(y='borough_cat', data=df, ax=ax, palette='Set1_r').set_title(\"Borough count\")"
   ]
  },
  {
   "cell_type": "code",
   "execution_count": 35,
   "metadata": {
    "scrolled": false
   },
   "outputs": [
    {
     "data": {
      "text/plain": [
       "Text(0.5, 1, 'sale_price X borough')"
      ]
     },
     "execution_count": 35,
     "metadata": {},
     "output_type": "execute_result"
    },
    {
     "data": {
      "image/png": "[encoded data removed]",
      "text/plain": [
       "<Figure size 864x432 with 1 Axes>"
      ]
     },
     "metadata": {
      "needs_background": "light"
     },
     "output_type": "display_data"
    }
   ],
   "source": [
    "# Sale price log by region of the city\n",
    "sns.catplot(x='borough_cat', y='sale_price_log', kind='violin',\n",
    "            data=df, height=6, aspect=2, palette='Set1_r')\n",
    "plt.title('sale_price X borough')"
   ]
  },
  {
   "cell_type": "markdown",
   "metadata": {},
   "source": [
    "    Aqui vemos que as propriedades comercializadas no Bronx custam menos em relação as outras regiões de Nova Iorque, já as propriedades em Manhattan são as mais caras. Em Staten Island, maior parte dos preços estão mais próximo da média. No Brooklyn temos uma maior variabilidade nos preços."
   ]
  },
  {
   "cell_type": "code",
   "execution_count": 36,
   "metadata": {
    "scrolled": true
   },
   "outputs": [
    {
     "data": {
      "text/plain": [
       "<matplotlib.axes._subplots.AxesSubplot at 0x7f8042c98b90>"
      ]
     },
     "execution_count": 36,
     "metadata": {},
     "output_type": "execute_result"
    },
    {
     "data": {
      "image/png": "[encoded data removed]",
      "text/plain": [
       "<Figure size 432x288 with 1 Axes>"
      ]
     },
     "metadata": {
      "needs_background": "light"
     },
     "output_type": "display_data"
    }
   ],
   "source": [
    "sns.scatterplot(data=df, x='total_units', y='sale_price')"
   ]
  },
  {
   "cell_type": "code",
   "execution_count": 37,
   "metadata": {},
   "outputs": [],
   "source": [
    "df = df[df['total_units'] < 40]"
   ]
  },
  {
   "cell_type": "code",
   "execution_count": 38,
   "metadata": {
    "scrolled": false
   },
   "outputs": [
    {
     "data": {
      "text/plain": [
       "<matplotlib.axes._subplots.AxesSubplot at 0x7f804809eb10>"
      ]
     },
     "execution_count": 38,
     "metadata": {},
     "output_type": "execute_result"
    },
    {
     "data": {
      "image/png": "[encoded data removed]",
      "text/plain": [
       "<Figure size 432x288 with 1 Axes>"
      ]
     },
     "metadata": {
      "needs_background": "light"
     },
     "output_type": "display_data"
    }
   ],
   "source": [
    "sns.scatterplot(data=df, x='total_units', y='sale_price')"
   ]
  },
  {
   "cell_type": "markdown",
   "metadata": {},
   "source": [
    "    Com relação a variável year_built vamos construir uma nova variável que divide o ano de construção da propriedade por década. Assim conseguimos ter uma melhor visualização quando categorizadas dessa maneira além de poder usar essa nova variável transformada nos nossos modelos."
   ]
  },
  {
   "cell_type": "code",
   "execution_count": 39,
   "metadata": {
    "scrolled": true
   },
   "outputs": [
    {
     "data": {
      "text/plain": [
       "array([   0, 1800, 1847, 1870, 1871, 1880, 1881, 1890, 1891, 1896, 1899,\n",
       "       1900, 1901, 1902, 1903, 1904, 1905, 1906, 1907, 1908, 1909, 1910,\n",
       "       1911, 1912, 1913, 1914, 1915, 1916, 1917, 1918, 1919, 1920, 1921,\n",
       "       1922, 1923, 1924, 1925, 1926, 1927, 1928, 1929, 1930, 1931, 1932,\n",
       "       1933, 1934, 1935, 1936, 1937, 1938, 1939, 1940, 1941, 1942, 1943,\n",
       "       1944, 1945, 1946, 1947, 1948, 1949, 1950, 1951, 1952, 1953, 1954,\n",
       "       1955, 1956, 1957, 1958, 1959, 1960, 1961, 1962, 1963, 1964, 1965,\n",
       "       1966, 1967, 1968, 1969, 1970, 1971, 1972, 1973, 1974, 1975, 1976,\n",
       "       1977, 1978, 1979, 1980, 1981, 1982, 1983, 1984, 1985, 1986, 1987,\n",
       "       1988, 1989, 1990, 1991, 1992, 1993, 1994, 1995, 1996, 1997, 1998,\n",
       "       1999, 2000, 2001, 2002, 2003, 2004, 2005, 2006, 2007, 2008, 2009,\n",
       "       2010, 2011, 2012, 2013, 2014, 2015, 2016, 2017])"
      ]
     },
     "execution_count": 39,
     "metadata": {},
     "output_type": "execute_result"
    }
   ],
   "source": [
    "np.sort(df['year_built'].unique())"
   ]
  },
  {
   "cell_type": "code",
   "execution_count": 40,
   "metadata": {},
   "outputs": [],
   "source": [
    "def year_built_transform(year):\n",
    "    if ((year >= 0) & (year <= 1799)):\n",
    "        return 0\n",
    "    elif ((year >= 1800) & (year <= 1809)):\n",
    "        return 1800\n",
    "    elif ((year >= 1810) & (year <= 1819)):\n",
    "        return 1810\n",
    "    elif ((year >= 1820) & (year <= 1829)):\n",
    "        return 1820\n",
    "    elif ((year >= 1830) & (year <= 1839)):\n",
    "        return 1830\n",
    "    elif ((year >= 1840) & (year <= 1849)):\n",
    "        return 1840\n",
    "    elif ((year >= 1850) & (year <= 1859)):\n",
    "        return 1850\n",
    "    elif ((year >= 1860) & (year <= 1869)):\n",
    "        return 1860\n",
    "    elif ((year >= 1870) & (year <= 1879)):\n",
    "        return 1870\n",
    "    elif ((year >= 1880) & (year <= 1889)):\n",
    "        return 1880\n",
    "    elif ((year >= 1890) & (year <= 1899)):\n",
    "        return 1890\n",
    "    elif ((year >= 1900) & (year <= 1909)):\n",
    "        return 1900\n",
    "    elif ((year >= 1910) & (year <= 1919)):\n",
    "        return 1910\n",
    "    elif ((year >= 1920) & (year <= 1929)):\n",
    "        return 1920\n",
    "    elif ((year >= 1930) & (year <= 1939)):\n",
    "        return 1930\n",
    "    elif ((year >= 1940) & (year <= 1949)):\n",
    "        return 1940\n",
    "    elif ((year >= 1950) & (year <= 1959)):\n",
    "        return 1950\n",
    "    elif ((year >= 1960) & (year <= 1969)):\n",
    "        return 1960\n",
    "    elif ((year >= 1970) & (year <= 1979)):\n",
    "        return 1970\n",
    "    elif ((year >= 1980) & (year <= 1989)):\n",
    "        return 1980\n",
    "    elif ((year >= 1990) & (year <= 1999)):\n",
    "        return 1990\n",
    "    elif ((year >= 2000) & (year <= 2009)):\n",
    "        return 2000\n",
    "    elif ((year >= 2010) & (year <= 2019)):\n",
    "        return 2010"
   ]
  },
  {
   "cell_type": "code",
   "execution_count": 41,
   "metadata": {
    "scrolled": true
   },
   "outputs": [],
   "source": [
    "df['year_built_cat'] = df['year_built'].apply(year_built_transform).copy()"
   ]
  },
  {
   "cell_type": "code",
   "execution_count": 42,
   "metadata": {
    "scrolled": false
   },
   "outputs": [
    {
     "data": {
      "image/png": "[encoded data removed]",
      "text/plain": [
       "<Figure size 360x360 with 1 Axes>"
      ]
     },
     "metadata": {
      "needs_background": "light"
     },
     "output_type": "display_data"
    }
   ],
   "source": [
    "sns.catplot(x='year_built_cat', y='sale_price', data=df, kind='bar', palette='Wistia')\n",
    "plt.xticks(rotation=90)\n",
    "plt.tight_layout()"
   ]
  },
  {
   "cell_type": "markdown",
   "metadata": {},
   "source": [
    "    A partir do gráfico, vemos que o período entre 1800 até 1880 possuem os preços mais caros com relação ao restante da base de dados porém com as barras de erro mais altas."
   ]
  },
  {
   "cell_type": "code",
   "execution_count": 43,
   "metadata": {
    "scrolled": false
   },
   "outputs": [
    {
     "data": {
      "image/png": "[encoded data removed]",
      "text/plain": [
       "<Figure size 360x360 with 1 Axes>"
      ]
     },
     "metadata": {
      "needs_background": "light"
     },
     "output_type": "display_data"
    }
   ],
   "source": [
    "sns.catplot(x='year_built_cat', data=df, kind='count', palette='tab10')\n",
    "plt.xticks(rotation=90)\n",
    "plt.tight_layout()"
   ]
  },
  {
   "cell_type": "markdown",
   "metadata": {},
   "source": [
    "    Após dividir year_built por década a partir de 1800, vemos no gráfico acima que a maioria das casas da base de dados são de 1890 até 2016. "
   ]
  },
  {
   "cell_type": "code",
   "execution_count": 44,
   "metadata": {},
   "outputs": [],
   "source": [
    "# sns.catplot(x='year_built_cat', y='sale_price_log', kind='violin',\n",
    "#             data=df, height=6, aspect=4, palette='Set1_r')"
   ]
  },
  {
   "cell_type": "code",
   "execution_count": 45,
   "metadata": {
    "scrolled": false
   },
   "outputs": [
    {
     "data": {
      "text/plain": [
       "01 ONE FAMILY DWELLINGS                        11293\n",
       "02 TWO FAMILY DWELLINGS                         9396\n",
       "03 THREE FAMILY DWELLINGS                       2215\n",
       "07 RENTALS - WALKUP APARTMENTS                  1078\n",
       "22 STORE BUILDINGS                               274\n",
       "14 RENTALS - 4-10 UNIT                           249\n",
       "21 OFFICE BUILDINGS                               98\n",
       "29 COMMERCIAL GARAGES                             78\n",
       "30 WAREHOUSES                                     73\n",
       "27 FACTORIES                                      36\n",
       "37 RELIGIOUS FACILITIES                           33\n",
       "05 TAX CLASS 1 VACANT LAND                        11\n",
       "33 EDUCATIONAL FACILITIES                         10\n",
       "35 INDOOR PUBLIC AND CULTURAL FACILITIES           7\n",
       "32 HOSPITAL AND HEALTH FACILITIES                  7\n",
       "38 ASYLUMS AND HOMES                               4\n",
       "26 OTHER HOTELS                                    3\n",
       "23 LOFT BUILDINGS                                  2\n",
       "06 TAX CLASS 1 - OTHER                             2\n",
       "41 TAX CLASS 4 - OTHER                             1\n",
       "08 RENTALS - ELEVATOR APARTMENTS                   1\n",
       "31 COMMERCIAL VACANT LAND                          1\n",
       "Name: building_class_category, dtype: int64"
      ]
     },
     "execution_count": 45,
     "metadata": {},
     "output_type": "execute_result"
    }
   ],
   "source": [
    "df['building_class_category'].value_counts()"
   ]
  },
  {
   "cell_type": "code",
   "execution_count": 46,
   "metadata": {},
   "outputs": [],
   "source": [
    "df['building_class_category'] = df['building_class_category'].str.strip()"
   ]
  },
  {
   "cell_type": "code",
   "execution_count": 47,
   "metadata": {},
   "outputs": [],
   "source": [
    "# Como temos muitas classes nessa feature, vamos selecionar as classes mais frequentes\n",
    "cols = ['01 ONE FAMILY DWELLINGS', '10 COOPS - ELEVATOR APARTMENTS',\n",
    "        '02 TWO FAMILY DWELLINGS', '13 CONDOS - ELEVATOR APARTMENTS']\n",
    "\n",
    "df = df[(df['building_class_category'] == cols[0]) |\n",
    "   (df['building_class_category'] == cols[1]) |\n",
    "   (df['building_class_category'] == cols[2]) |\n",
    "   (df['building_class_category'] == cols[3])]"
   ]
  },
  {
   "cell_type": "code",
   "execution_count": 48,
   "metadata": {},
   "outputs": [
    {
     "data": {
      "image/png": "[encoded data removed]",
      "text/plain": [
       "<Figure size 360x360 with 1 Axes>"
      ]
     },
     "metadata": {
      "needs_background": "light"
     },
     "output_type": "display_data"
    }
   ],
   "source": [
    "df = df[df['tax_class_at_present'] != ' ']\n",
    "sns.catplot(y='sale_price', x='tax_class_at_present', data=df, kind='bar', palette='Set2_r')\n",
    "plt.xticks(rotation=90)\n",
    "plt.tight_layout()"
   ]
  },
  {
   "cell_type": "code",
   "execution_count": 49,
   "metadata": {
    "scrolled": true
   },
   "outputs": [
    {
     "data": {
      "text/plain": [
       "<matplotlib.axes._subplots.AxesSubplot at 0x7f8048cafd50>"
      ]
     },
     "execution_count": 49,
     "metadata": {},
     "output_type": "execute_result"
    },
    {
     "data": {
      "image/png": "[encoded data removed]",
      "text/plain": [
       "<Figure size 432x288 with 1 Axes>"
      ]
     },
     "metadata": {
      "needs_background": "light"
     },
     "output_type": "display_data"
    }
   ],
   "source": [
    "df['tax_class_at_time_of_sale'].value_counts().plot(kind='bar', color='gray')"
   ]
  },
  {
   "cell_type": "markdown",
   "metadata": {},
   "source": [
    "## Modelagem "
   ]
  },
  {
   "cell_type": "code",
   "execution_count": 50,
   "metadata": {
    "scrolled": false
   },
   "outputs": [
    {
     "data": {
      "text/html": [
       "<div>\n",
       "<style scoped>\n",
       "    .dataframe tbody tr th:only-of-type {\n",
       "        vertical-align: middle;\n",
       "    }\n",
       "\n",
       "    .dataframe tbody tr th {\n",
       "        vertical-align: top;\n",
       "    }\n",
       "\n",
       "    .dataframe thead th {\n",
       "        text-align: right;\n",
       "    }\n",
       "</style>\n",
       "<table border=\"1\" class=\"dataframe\">\n",
       "  <thead>\n",
       "    <tr style=\"text-align: right;\">\n",
       "      <th></th>\n",
       "      <th>borough</th>\n",
       "      <th>neighborhood</th>\n",
       "      <th>building_class_category</th>\n",
       "      <th>tax_class_at_present</th>\n",
       "      <th>block</th>\n",
       "      <th>lot</th>\n",
       "      <th>building_class_at_present</th>\n",
       "      <th>address</th>\n",
       "      <th>apartment_number</th>\n",
       "      <th>total_units</th>\n",
       "      <th>...</th>\n",
       "      <th>gross_square_feet</th>\n",
       "      <th>year_built</th>\n",
       "      <th>tax_class_at_time_of_sale</th>\n",
       "      <th>building_class_at_time_of_sale</th>\n",
       "      <th>sale_price</th>\n",
       "      <th>sale_price_log</th>\n",
       "      <th>land_square_feet_log</th>\n",
       "      <th>gross_square_feet_log</th>\n",
       "      <th>borough_cat</th>\n",
       "      <th>year_built_cat</th>\n",
       "    </tr>\n",
       "  </thead>\n",
       "  <tbody>\n",
       "    <tr>\n",
       "      <th>1791</th>\n",
       "      <td>1</td>\n",
       "      <td>EAST VILLAGE</td>\n",
       "      <td>02 TWO FAMILY DWELLINGS</td>\n",
       "      <td>1</td>\n",
       "      <td>436</td>\n",
       "      <td>1</td>\n",
       "      <td>S2</td>\n",
       "      <td>138 1 AVENUE</td>\n",
       "      <td></td>\n",
       "      <td>3</td>\n",
       "      <td>...</td>\n",
       "      <td>3360.0</td>\n",
       "      <td>1900</td>\n",
       "      <td>1</td>\n",
       "      <td>S2</td>\n",
       "      <td>3000000.0</td>\n",
       "      <td>14.914123</td>\n",
       "      <td>7.090077</td>\n",
       "      <td>8.119696</td>\n",
       "      <td>Manhattan</td>\n",
       "      <td>1900</td>\n",
       "    </tr>\n",
       "    <tr>\n",
       "      <th>4172</th>\n",
       "      <td>1</td>\n",
       "      <td>GREENWICH VILLAGE-WEST</td>\n",
       "      <td>01 ONE FAMILY DWELLINGS</td>\n",
       "      <td>1</td>\n",
       "      <td>585</td>\n",
       "      <td>69</td>\n",
       "      <td>A5</td>\n",
       "      <td>2 GROVE COURT</td>\n",
       "      <td></td>\n",
       "      <td>1</td>\n",
       "      <td>...</td>\n",
       "      <td>1152.0</td>\n",
       "      <td>1901</td>\n",
       "      <td>1</td>\n",
       "      <td>A5</td>\n",
       "      <td>1375000.0</td>\n",
       "      <td>14.133964</td>\n",
       "      <td>5.950643</td>\n",
       "      <td>7.049255</td>\n",
       "      <td>Manhattan</td>\n",
       "      <td>1900</td>\n",
       "    </tr>\n",
       "    <tr>\n",
       "      <th>4173</th>\n",
       "      <td>1</td>\n",
       "      <td>GREENWICH VILLAGE-WEST</td>\n",
       "      <td>01 ONE FAMILY DWELLINGS</td>\n",
       "      <td>1</td>\n",
       "      <td>585</td>\n",
       "      <td>69</td>\n",
       "      <td>A5</td>\n",
       "      <td>2 GROVE COURT</td>\n",
       "      <td></td>\n",
       "      <td>1</td>\n",
       "      <td>...</td>\n",
       "      <td>1152.0</td>\n",
       "      <td>1901</td>\n",
       "      <td>1</td>\n",
       "      <td>A5</td>\n",
       "      <td>1375000.0</td>\n",
       "      <td>14.133964</td>\n",
       "      <td>5.950643</td>\n",
       "      <td>7.049255</td>\n",
       "      <td>Manhattan</td>\n",
       "      <td>1900</td>\n",
       "    </tr>\n",
       "    <tr>\n",
       "      <th>4800</th>\n",
       "      <td>1</td>\n",
       "      <td>HARLEM-CENTRAL</td>\n",
       "      <td>01 ONE FAMILY DWELLINGS</td>\n",
       "      <td>1</td>\n",
       "      <td>1942</td>\n",
       "      <td>58</td>\n",
       "      <td>A4</td>\n",
       "      <td>288 W. 137TH STREET</td>\n",
       "      <td></td>\n",
       "      <td>1</td>\n",
       "      <td>...</td>\n",
       "      <td>3036.0</td>\n",
       "      <td>1910</td>\n",
       "      <td>1</td>\n",
       "      <td>A4</td>\n",
       "      <td>2300000.0</td>\n",
       "      <td>14.648420</td>\n",
       "      <td>7.345365</td>\n",
       "      <td>8.018296</td>\n",
       "      <td>Manhattan</td>\n",
       "      <td>1910</td>\n",
       "    </tr>\n",
       "    <tr>\n",
       "      <th>4801</th>\n",
       "      <td>1</td>\n",
       "      <td>HARLEM-CENTRAL</td>\n",
       "      <td>01 ONE FAMILY DWELLINGS</td>\n",
       "      <td>1</td>\n",
       "      <td>1960</td>\n",
       "      <td>41</td>\n",
       "      <td>A9</td>\n",
       "      <td>307 WEST 136 STREET</td>\n",
       "      <td></td>\n",
       "      <td>1</td>\n",
       "      <td>...</td>\n",
       "      <td>3200.0</td>\n",
       "      <td>1910</td>\n",
       "      <td>1</td>\n",
       "      <td>A9</td>\n",
       "      <td>1510000.0</td>\n",
       "      <td>14.227620</td>\n",
       "      <td>7.417580</td>\n",
       "      <td>8.070906</td>\n",
       "      <td>Manhattan</td>\n",
       "      <td>1910</td>\n",
       "    </tr>\n",
       "  </tbody>\n",
       "</table>\n",
       "<p>5 rows × 21 columns</p>\n",
       "</div>"
      ],
      "text/plain": [
       "      borough            neighborhood  building_class_category  \\\n",
       "1791        1            EAST VILLAGE  02 TWO FAMILY DWELLINGS   \n",
       "4172        1  GREENWICH VILLAGE-WEST  01 ONE FAMILY DWELLINGS   \n",
       "4173        1  GREENWICH VILLAGE-WEST  01 ONE FAMILY DWELLINGS   \n",
       "4800        1          HARLEM-CENTRAL  01 ONE FAMILY DWELLINGS   \n",
       "4801        1          HARLEM-CENTRAL  01 ONE FAMILY DWELLINGS   \n",
       "\n",
       "     tax_class_at_present  block  lot building_class_at_present  \\\n",
       "1791                    1    436    1                        S2   \n",
       "4172                    1    585   69                        A5   \n",
       "4173                    1    585   69                        A5   \n",
       "4800                    1   1942   58                        A4   \n",
       "4801                    1   1960   41                        A9   \n",
       "\n",
       "                  address apartment_number  total_units  ...  \\\n",
       "1791         138 1 AVENUE                             3  ...   \n",
       "4172        2 GROVE COURT                             1  ...   \n",
       "4173        2 GROVE COURT                             1  ...   \n",
       "4800  288 W. 137TH STREET                             1  ...   \n",
       "4801  307 WEST 136 STREET                             1  ...   \n",
       "\n",
       "      gross_square_feet  year_built  tax_class_at_time_of_sale  \\\n",
       "1791             3360.0        1900                          1   \n",
       "4172             1152.0        1901                          1   \n",
       "4173             1152.0        1901                          1   \n",
       "4800             3036.0        1910                          1   \n",
       "4801             3200.0        1910                          1   \n",
       "\n",
       "      building_class_at_time_of_sale sale_price  sale_price_log  \\\n",
       "1791                              S2  3000000.0       14.914123   \n",
       "4172                              A5  1375000.0       14.133964   \n",
       "4173                              A5  1375000.0       14.133964   \n",
       "4800                              A4  2300000.0       14.648420   \n",
       "4801                              A9  1510000.0       14.227620   \n",
       "\n",
       "      land_square_feet_log  gross_square_feet_log  borough_cat year_built_cat  \n",
       "1791              7.090077               8.119696    Manhattan           1900  \n",
       "4172              5.950643               7.049255    Manhattan           1900  \n",
       "4173              5.950643               7.049255    Manhattan           1900  \n",
       "4800              7.345365               8.018296    Manhattan           1910  \n",
       "4801              7.417580               8.070906    Manhattan           1910  \n",
       "\n",
       "[5 rows x 21 columns]"
      ]
     },
     "execution_count": 50,
     "metadata": {},
     "output_type": "execute_result"
    }
   ],
   "source": [
    "df.head()"
   ]
  },
  {
   "cell_type": "markdown",
   "metadata": {},
   "source": [
    "#### Feature Selection\n",
    "\n",
    "Inicialmente foram excluídas as features como \"neighborhood\", \"adress\", \"apartment_number\", \"borough_cat\", \"year_built\" e \"sale_price\", estas últimas porque outras features derivadas destas foram utilizadas. \n",
    "\n",
    "Abaixo foram testados modelos como Random Forest, Linear Regression, KNN e Lasso Regression. Após analisar os coeficientes gerados pelo Lasso Regression foi verificado que muitos dos coeficientes referentes as features \"building_class_at_present\", \"building_class_at_time_of_sale\", \"building_class_category\" e \"tax_class_at_time_of_sale\" foram zerados. Devido a característica .....[IR NO COURSERA PARA EMBASAR A FEATURE SELECTION] ... foi feita a feature selection"
   ]
  },
  {
   "cell_type": "code",
   "execution_count": 51,
   "metadata": {
    "scrolled": false
   },
   "outputs": [
    {
     "data": {
      "text/html": [
       "<div>\n",
       "<style scoped>\n",
       "    .dataframe tbody tr th:only-of-type {\n",
       "        vertical-align: middle;\n",
       "    }\n",
       "\n",
       "    .dataframe tbody tr th {\n",
       "        vertical-align: top;\n",
       "    }\n",
       "\n",
       "    .dataframe thead th {\n",
       "        text-align: right;\n",
       "    }\n",
       "</style>\n",
       "<table border=\"1\" class=\"dataframe\">\n",
       "  <thead>\n",
       "    <tr style=\"text-align: right;\">\n",
       "      <th></th>\n",
       "      <th>borough</th>\n",
       "      <th>building_class_category</th>\n",
       "      <th>tax_class_at_present</th>\n",
       "      <th>block</th>\n",
       "      <th>lot</th>\n",
       "      <th>total_units</th>\n",
       "      <th>land_square_feet</th>\n",
       "      <th>gross_square_feet</th>\n",
       "      <th>sale_price</th>\n",
       "      <th>year_built_cat</th>\n",
       "    </tr>\n",
       "  </thead>\n",
       "  <tbody>\n",
       "    <tr>\n",
       "      <th>1791</th>\n",
       "      <td>1</td>\n",
       "      <td>02 TWO FAMILY DWELLINGS</td>\n",
       "      <td>1</td>\n",
       "      <td>436</td>\n",
       "      <td>1</td>\n",
       "      <td>3</td>\n",
       "      <td>1200.0</td>\n",
       "      <td>3360.0</td>\n",
       "      <td>3000000.0</td>\n",
       "      <td>1900</td>\n",
       "    </tr>\n",
       "    <tr>\n",
       "      <th>4172</th>\n",
       "      <td>1</td>\n",
       "      <td>01 ONE FAMILY DWELLINGS</td>\n",
       "      <td>1</td>\n",
       "      <td>585</td>\n",
       "      <td>69</td>\n",
       "      <td>1</td>\n",
       "      <td>384.0</td>\n",
       "      <td>1152.0</td>\n",
       "      <td>1375000.0</td>\n",
       "      <td>1900</td>\n",
       "    </tr>\n",
       "    <tr>\n",
       "      <th>4173</th>\n",
       "      <td>1</td>\n",
       "      <td>01 ONE FAMILY DWELLINGS</td>\n",
       "      <td>1</td>\n",
       "      <td>585</td>\n",
       "      <td>69</td>\n",
       "      <td>1</td>\n",
       "      <td>384.0</td>\n",
       "      <td>1152.0</td>\n",
       "      <td>1375000.0</td>\n",
       "      <td>1900</td>\n",
       "    </tr>\n",
       "    <tr>\n",
       "      <th>4800</th>\n",
       "      <td>1</td>\n",
       "      <td>01 ONE FAMILY DWELLINGS</td>\n",
       "      <td>1</td>\n",
       "      <td>1942</td>\n",
       "      <td>58</td>\n",
       "      <td>1</td>\n",
       "      <td>1549.0</td>\n",
       "      <td>3036.0</td>\n",
       "      <td>2300000.0</td>\n",
       "      <td>1910</td>\n",
       "    </tr>\n",
       "    <tr>\n",
       "      <th>4801</th>\n",
       "      <td>1</td>\n",
       "      <td>01 ONE FAMILY DWELLINGS</td>\n",
       "      <td>1</td>\n",
       "      <td>1960</td>\n",
       "      <td>41</td>\n",
       "      <td>1</td>\n",
       "      <td>1665.0</td>\n",
       "      <td>3200.0</td>\n",
       "      <td>1510000.0</td>\n",
       "      <td>1910</td>\n",
       "    </tr>\n",
       "  </tbody>\n",
       "</table>\n",
       "</div>"
      ],
      "text/plain": [
       "      borough  building_class_category tax_class_at_present  block  lot  \\\n",
       "1791        1  02 TWO FAMILY DWELLINGS                    1    436    1   \n",
       "4172        1  01 ONE FAMILY DWELLINGS                    1    585   69   \n",
       "4173        1  01 ONE FAMILY DWELLINGS                    1    585   69   \n",
       "4800        1  01 ONE FAMILY DWELLINGS                    1   1942   58   \n",
       "4801        1  01 ONE FAMILY DWELLINGS                    1   1960   41   \n",
       "\n",
       "      total_units  land_square_feet  gross_square_feet  sale_price  \\\n",
       "1791            3            1200.0             3360.0   3000000.0   \n",
       "4172            1             384.0             1152.0   1375000.0   \n",
       "4173            1             384.0             1152.0   1375000.0   \n",
       "4800            1            1549.0             3036.0   2300000.0   \n",
       "4801            1            1665.0             3200.0   1510000.0   \n",
       "\n",
       "      year_built_cat  \n",
       "1791            1900  \n",
       "4172            1900  \n",
       "4173            1900  \n",
       "4800            1910  \n",
       "4801            1910  "
      ]
     },
     "execution_count": 51,
     "metadata": {},
     "output_type": "execute_result"
    }
   ],
   "source": [
    "df_ml = df.drop(columns=['neighborhood', 'address', 'building_class_at_present', 'land_square_feet_log',\n",
    "                         'apartment_number', 'year_built', 'building_class_at_time_of_sale',\n",
    "                         'gross_square_feet_log', 'sale_price_log', 'borough_cat', 'tax_class_at_time_of_sale'],\n",
    "                         axis=1)\n",
    "\n",
    "df_ml.head()"
   ]
  },
  {
   "cell_type": "code",
   "execution_count": 52,
   "metadata": {
    "scrolled": true
   },
   "outputs": [
    {
     "data": {
      "text/html": [
       "<div>\n",
       "<style scoped>\n",
       "    .dataframe tbody tr th:only-of-type {\n",
       "        vertical-align: middle;\n",
       "    }\n",
       "\n",
       "    .dataframe tbody tr th {\n",
       "        vertical-align: top;\n",
       "    }\n",
       "\n",
       "    .dataframe thead th {\n",
       "        text-align: right;\n",
       "    }\n",
       "</style>\n",
       "<table border=\"1\" class=\"dataframe\">\n",
       "  <thead>\n",
       "    <tr style=\"text-align: right;\">\n",
       "      <th></th>\n",
       "      <th>borough</th>\n",
       "      <th>building_class_category</th>\n",
       "      <th>tax_class_at_present</th>\n",
       "      <th>block</th>\n",
       "      <th>lot</th>\n",
       "      <th>total_units</th>\n",
       "      <th>land_square_feet</th>\n",
       "      <th>gross_square_feet</th>\n",
       "      <th>sale_price</th>\n",
       "      <th>year_built_cat</th>\n",
       "    </tr>\n",
       "  </thead>\n",
       "  <tbody>\n",
       "    <tr>\n",
       "      <th>1791</th>\n",
       "      <td>1</td>\n",
       "      <td>02 TWO FAMILY DWELLINGS</td>\n",
       "      <td>1</td>\n",
       "      <td>436</td>\n",
       "      <td>1</td>\n",
       "      <td>3</td>\n",
       "      <td>-1.214424</td>\n",
       "      <td>2.277142</td>\n",
       "      <td>5.616546</td>\n",
       "      <td>1900</td>\n",
       "    </tr>\n",
       "    <tr>\n",
       "      <th>4172</th>\n",
       "      <td>1</td>\n",
       "      <td>01 ONE FAMILY DWELLINGS</td>\n",
       "      <td>1</td>\n",
       "      <td>585</td>\n",
       "      <td>69</td>\n",
       "      <td>1</td>\n",
       "      <td>-1.766383</td>\n",
       "      <td>-0.996253</td>\n",
       "      <td>1.674397</td>\n",
       "      <td>1900</td>\n",
       "    </tr>\n",
       "    <tr>\n",
       "      <th>4173</th>\n",
       "      <td>1</td>\n",
       "      <td>01 ONE FAMILY DWELLINGS</td>\n",
       "      <td>1</td>\n",
       "      <td>585</td>\n",
       "      <td>69</td>\n",
       "      <td>1</td>\n",
       "      <td>-1.766383</td>\n",
       "      <td>-0.996253</td>\n",
       "      <td>1.674397</td>\n",
       "      <td>1900</td>\n",
       "    </tr>\n",
       "    <tr>\n",
       "      <th>4800</th>\n",
       "      <td>1</td>\n",
       "      <td>01 ONE FAMILY DWELLINGS</td>\n",
       "      <td>1</td>\n",
       "      <td>1942</td>\n",
       "      <td>58</td>\n",
       "      <td>1</td>\n",
       "      <td>-0.978354</td>\n",
       "      <td>1.796807</td>\n",
       "      <td>3.918390</td>\n",
       "      <td>1910</td>\n",
       "    </tr>\n",
       "    <tr>\n",
       "      <th>4801</th>\n",
       "      <td>1</td>\n",
       "      <td>01 ONE FAMILY DWELLINGS</td>\n",
       "      <td>1</td>\n",
       "      <td>1960</td>\n",
       "      <td>41</td>\n",
       "      <td>1</td>\n",
       "      <td>-0.899889</td>\n",
       "      <td>2.039939</td>\n",
       "      <td>2.001899</td>\n",
       "      <td>1910</td>\n",
       "    </tr>\n",
       "  </tbody>\n",
       "</table>\n",
       "</div>"
      ],
      "text/plain": [
       "      borough  building_class_category tax_class_at_present  block  lot  \\\n",
       "1791        1  02 TWO FAMILY DWELLINGS                    1    436    1   \n",
       "4172        1  01 ONE FAMILY DWELLINGS                    1    585   69   \n",
       "4173        1  01 ONE FAMILY DWELLINGS                    1    585   69   \n",
       "4800        1  01 ONE FAMILY DWELLINGS                    1   1942   58   \n",
       "4801        1  01 ONE FAMILY DWELLINGS                    1   1960   41   \n",
       "\n",
       "      total_units  land_square_feet  gross_square_feet  sale_price  \\\n",
       "1791            3         -1.214424           2.277142    5.616546   \n",
       "4172            1         -1.766383          -0.996253    1.674397   \n",
       "4173            1         -1.766383          -0.996253    1.674397   \n",
       "4800            1         -0.978354           1.796807    3.918390   \n",
       "4801            1         -0.899889           2.039939    2.001899   \n",
       "\n",
       "      year_built_cat  \n",
       "1791            1900  \n",
       "4172            1900  \n",
       "4173            1900  \n",
       "4800            1910  \n",
       "4801            1910  "
      ]
     },
     "execution_count": 52,
     "metadata": {},
     "output_type": "execute_result"
    }
   ],
   "source": [
    "numerical_cols = ['land_square_feet', 'gross_square_feet', 'sale_price']\n",
    "scalar = StandardScaler()\n",
    "scalar.fit(df_ml[numerical_cols])\n",
    "scalar = scalar.transform(df_ml[numerical_cols])\n",
    "\n",
    "for i, col in enumerate(numerical_cols):\n",
    "    df_ml[col] = scalar[:, i]\n",
    "df_ml.head()"
   ]
  },
  {
   "cell_type": "code",
   "execution_count": 53,
   "metadata": {
    "scrolled": false
   },
   "outputs": [
    {
     "data": {
      "text/html": [
       "<div>\n",
       "<style scoped>\n",
       "    .dataframe tbody tr th:only-of-type {\n",
       "        vertical-align: middle;\n",
       "    }\n",
       "\n",
       "    .dataframe tbody tr th {\n",
       "        vertical-align: top;\n",
       "    }\n",
       "\n",
       "    .dataframe thead th {\n",
       "        text-align: right;\n",
       "    }\n",
       "</style>\n",
       "<table border=\"1\" class=\"dataframe\">\n",
       "  <thead>\n",
       "    <tr style=\"text-align: right;\">\n",
       "      <th></th>\n",
       "      <th>block</th>\n",
       "      <th>lot</th>\n",
       "      <th>total_units</th>\n",
       "      <th>land_square_feet</th>\n",
       "      <th>gross_square_feet</th>\n",
       "      <th>sale_price</th>\n",
       "      <th>borough_1</th>\n",
       "      <th>borough_2</th>\n",
       "      <th>borough_3</th>\n",
       "      <th>borough_4</th>\n",
       "      <th>...</th>\n",
       "      <th>year_built_cat_1940</th>\n",
       "      <th>year_built_cat_1950</th>\n",
       "      <th>year_built_cat_1960</th>\n",
       "      <th>year_built_cat_1970</th>\n",
       "      <th>year_built_cat_1980</th>\n",
       "      <th>year_built_cat_1990</th>\n",
       "      <th>year_built_cat_2000</th>\n",
       "      <th>year_built_cat_2010</th>\n",
       "      <th>building_class_category_01 ONE FAMILY DWELLINGS</th>\n",
       "      <th>building_class_category_02 TWO FAMILY DWELLINGS</th>\n",
       "    </tr>\n",
       "  </thead>\n",
       "  <tbody>\n",
       "    <tr>\n",
       "      <th>1791</th>\n",
       "      <td>436</td>\n",
       "      <td>1</td>\n",
       "      <td>3</td>\n",
       "      <td>-1.214424</td>\n",
       "      <td>2.277142</td>\n",
       "      <td>5.616546</td>\n",
       "      <td>1</td>\n",
       "      <td>0</td>\n",
       "      <td>0</td>\n",
       "      <td>0</td>\n",
       "      <td>...</td>\n",
       "      <td>0</td>\n",
       "      <td>0</td>\n",
       "      <td>0</td>\n",
       "      <td>0</td>\n",
       "      <td>0</td>\n",
       "      <td>0</td>\n",
       "      <td>0</td>\n",
       "      <td>0</td>\n",
       "      <td>0</td>\n",
       "      <td>1</td>\n",
       "    </tr>\n",
       "    <tr>\n",
       "      <th>4172</th>\n",
       "      <td>585</td>\n",
       "      <td>69</td>\n",
       "      <td>1</td>\n",
       "      <td>-1.766383</td>\n",
       "      <td>-0.996253</td>\n",
       "      <td>1.674397</td>\n",
       "      <td>1</td>\n",
       "      <td>0</td>\n",
       "      <td>0</td>\n",
       "      <td>0</td>\n",
       "      <td>...</td>\n",
       "      <td>0</td>\n",
       "      <td>0</td>\n",
       "      <td>0</td>\n",
       "      <td>0</td>\n",
       "      <td>0</td>\n",
       "      <td>0</td>\n",
       "      <td>0</td>\n",
       "      <td>0</td>\n",
       "      <td>1</td>\n",
       "      <td>0</td>\n",
       "    </tr>\n",
       "    <tr>\n",
       "      <th>4173</th>\n",
       "      <td>585</td>\n",
       "      <td>69</td>\n",
       "      <td>1</td>\n",
       "      <td>-1.766383</td>\n",
       "      <td>-0.996253</td>\n",
       "      <td>1.674397</td>\n",
       "      <td>1</td>\n",
       "      <td>0</td>\n",
       "      <td>0</td>\n",
       "      <td>0</td>\n",
       "      <td>...</td>\n",
       "      <td>0</td>\n",
       "      <td>0</td>\n",
       "      <td>0</td>\n",
       "      <td>0</td>\n",
       "      <td>0</td>\n",
       "      <td>0</td>\n",
       "      <td>0</td>\n",
       "      <td>0</td>\n",
       "      <td>1</td>\n",
       "      <td>0</td>\n",
       "    </tr>\n",
       "    <tr>\n",
       "      <th>4800</th>\n",
       "      <td>1942</td>\n",
       "      <td>58</td>\n",
       "      <td>1</td>\n",
       "      <td>-0.978354</td>\n",
       "      <td>1.796807</td>\n",
       "      <td>3.918390</td>\n",
       "      <td>1</td>\n",
       "      <td>0</td>\n",
       "      <td>0</td>\n",
       "      <td>0</td>\n",
       "      <td>...</td>\n",
       "      <td>0</td>\n",
       "      <td>0</td>\n",
       "      <td>0</td>\n",
       "      <td>0</td>\n",
       "      <td>0</td>\n",
       "      <td>0</td>\n",
       "      <td>0</td>\n",
       "      <td>0</td>\n",
       "      <td>1</td>\n",
       "      <td>0</td>\n",
       "    </tr>\n",
       "    <tr>\n",
       "      <th>4801</th>\n",
       "      <td>1960</td>\n",
       "      <td>41</td>\n",
       "      <td>1</td>\n",
       "      <td>-0.899889</td>\n",
       "      <td>2.039939</td>\n",
       "      <td>2.001899</td>\n",
       "      <td>1</td>\n",
       "      <td>0</td>\n",
       "      <td>0</td>\n",
       "      <td>0</td>\n",
       "      <td>...</td>\n",
       "      <td>0</td>\n",
       "      <td>0</td>\n",
       "      <td>0</td>\n",
       "      <td>0</td>\n",
       "      <td>0</td>\n",
       "      <td>0</td>\n",
       "      <td>0</td>\n",
       "      <td>0</td>\n",
       "      <td>1</td>\n",
       "      <td>0</td>\n",
       "    </tr>\n",
       "  </tbody>\n",
       "</table>\n",
       "<p>5 rows × 32 columns</p>\n",
       "</div>"
      ],
      "text/plain": [
       "      block  lot  total_units  land_square_feet  gross_square_feet  \\\n",
       "1791    436    1            3         -1.214424           2.277142   \n",
       "4172    585   69            1         -1.766383          -0.996253   \n",
       "4173    585   69            1         -1.766383          -0.996253   \n",
       "4800   1942   58            1         -0.978354           1.796807   \n",
       "4801   1960   41            1         -0.899889           2.039939   \n",
       "\n",
       "      sale_price  borough_1  borough_2  borough_3  borough_4  ...  \\\n",
       "1791    5.616546          1          0          0          0  ...   \n",
       "4172    1.674397          1          0          0          0  ...   \n",
       "4173    1.674397          1          0          0          0  ...   \n",
       "4800    3.918390          1          0          0          0  ...   \n",
       "4801    2.001899          1          0          0          0  ...   \n",
       "\n",
       "      year_built_cat_1940  year_built_cat_1950  year_built_cat_1960  \\\n",
       "1791                    0                    0                    0   \n",
       "4172                    0                    0                    0   \n",
       "4173                    0                    0                    0   \n",
       "4800                    0                    0                    0   \n",
       "4801                    0                    0                    0   \n",
       "\n",
       "      year_built_cat_1970  year_built_cat_1980  year_built_cat_1990  \\\n",
       "1791                    0                    0                    0   \n",
       "4172                    0                    0                    0   \n",
       "4173                    0                    0                    0   \n",
       "4800                    0                    0                    0   \n",
       "4801                    0                    0                    0   \n",
       "\n",
       "      year_built_cat_2000  year_built_cat_2010  \\\n",
       "1791                    0                    0   \n",
       "4172                    0                    0   \n",
       "4173                    0                    0   \n",
       "4800                    0                    0   \n",
       "4801                    0                    0   \n",
       "\n",
       "      building_class_category_01 ONE FAMILY DWELLINGS  \\\n",
       "1791                                                0   \n",
       "4172                                                1   \n",
       "4173                                                1   \n",
       "4800                                                1   \n",
       "4801                                                1   \n",
       "\n",
       "      building_class_category_02 TWO FAMILY DWELLINGS  \n",
       "1791                                                1  \n",
       "4172                                                0  \n",
       "4173                                                0  \n",
       "4800                                                0  \n",
       "4801                                                0  \n",
       "\n",
       "[5 rows x 32 columns]"
      ]
     },
     "execution_count": 53,
     "metadata": {},
     "output_type": "execute_result"
    }
   ],
   "source": [
    "df_ml = pd.get_dummies(data=df_ml, columns=['borough', 'tax_class_at_present', 'year_built_cat',\n",
    "                                           'building_class_category'])\n",
    "\n",
    "df_ml.head()"
   ]
  },
  {
   "cell_type": "code",
   "execution_count": 54,
   "metadata": {},
   "outputs": [],
   "source": [
    "y = df_ml.sale_price\n",
    "X = df_ml.drop(columns='sale_price', axis=1)"
   ]
  },
  {
   "cell_type": "markdown",
   "metadata": {},
   "source": [
    "### Lasso Regression"
   ]
  },
  {
   "cell_type": "code",
   "execution_count": 55,
   "metadata": {
    "scrolled": false
   },
   "outputs": [
    {
     "name": "stdout",
     "output_type": "stream",
     "text": [
      "RMSE train: 0.5980 | MAE train: 0.5036 | r2: 0.4119\n",
      "RMSE test: 0.5453  | MAE test: 0.4950 | r2: 0.4323\n"
     ]
    }
   ],
   "source": [
    "X_train, X_test, y_train, y_test = train_test_split(X, y, test_size=0.3, random_state=0)\n",
    "\n",
    "alpha = 0.00099\n",
    "lasso_reg = Lasso(alpha=alpha)\n",
    "lasso_reg.fit(X_train, y_train)\n",
    "\n",
    "y_train_predicted = lasso_reg.predict(X_train)\n",
    "RMSE_train = mean_squared_error(y_train, y_train_predicted, squared=True)\n",
    "MAE_train = mean_absolute_error(y_train, y_train_predicted)\n",
    "r2 = r2_score(y_train, y_train_predicted)\n",
    "print(\"RMSE train: {:.4f} | MAE train: {:.4f} | r2: {:.4f}\".format(RMSE_train, MAE_train, r2))\n",
    "\n",
    "y_test_predicted = lasso_reg.predict(X_test)      \n",
    "RMSE_test = mean_squared_error(y_test, y_test_predicted, squared=True)\n",
    "MAE_test = mean_absolute_error(y_test, y_test_predicted)\n",
    "r2 = r2_score(y_test, y_test_predicted)\n",
    "print(\"RMSE test: {:.4f}  | MAE test: {:.4f} | r2: {:.4f}\".format(RMSE_test, MAE_test, r2))"
   ]
  },
  {
   "cell_type": "code",
   "execution_count": 56,
   "metadata": {
    "scrolled": false
   },
   "outputs": [
    {
     "name": "stdout",
     "output_type": "stream",
     "text": [
      "block -9.181962558321033e-05\n",
      "lot -8.704091833884103e-06\n",
      "total_units -0.03657185041387755\n",
      "land_square_feet 0.17533301515732178\n",
      "gross_square_feet 0.3376520147955142\n",
      "borough_1 1.2546033712615432\n",
      "borough_2 -0.9397944486248762\n",
      "borough_3 0.24521820982346187\n",
      "borough_4 -0.0\n",
      "borough_5 -0.9177982606460142\n",
      "tax_class_at_present_1 0.0\n",
      "tax_class_at_present_2 0.0\n",
      "year_built_cat_0 -0.0\n",
      "year_built_cat_1840 0.0\n",
      "year_built_cat_1870 0.0\n",
      "year_built_cat_1880 0.0\n",
      "year_built_cat_1890 0.26917794022889246\n",
      "year_built_cat_1900 0.01277608551783182\n",
      "year_built_cat_1910 -0.1177958936489595\n",
      "year_built_cat_1920 -0.04618597833803863\n",
      "year_built_cat_1930 -0.030268043176575478\n",
      "year_built_cat_1940 -0.012162509368964345\n",
      "year_built_cat_1950 -0.010898415513414255\n",
      "year_built_cat_1960 -0.03179507123455193\n",
      "year_built_cat_1970 0.006570244562724765\n",
      "year_built_cat_1980 -0.0\n",
      "year_built_cat_1990 0.02756528959991223\n",
      "year_built_cat_2000 0.0\n",
      "year_built_cat_2010 0.049427390694957704\n",
      "building_class_category_01 ONE FAMILY DWELLINGS 0.060304585910094695\n",
      "building_class_category_02 TWO FAMILY DWELLINGS -0.0\n"
     ]
    }
   ],
   "source": [
    "for col, coef in zip(X.columns, lasso_reg.coef_):\n",
    "    print(col, coef)"
   ]
  },
  {
   "cell_type": "code",
   "execution_count": 57,
   "metadata": {},
   "outputs": [
    {
     "data": {
      "text/plain": [
       "<matplotlib.axes._subplots.AxesSubplot at 0x7f8048d6fd50>"
      ]
     },
     "execution_count": 57,
     "metadata": {},
     "output_type": "execute_result"
    },
    {
     "data": {
      "image/png": "[encoded data removed]",
      "text/plain": [
       "<Figure size 1152x288 with 1 Axes>"
      ]
     },
     "metadata": {
      "needs_background": "light"
     },
     "output_type": "display_data"
    }
   ],
   "source": [
    "fig, ax = plt.subplots(figsize=(16, 4))\n",
    "sns.residplot(x=y_test, y=y_test_predicted, color='r', scatter_kws={\"s\": 3}, ax=ax)"
   ]
  },
  {
   "cell_type": "code",
   "execution_count": 58,
   "metadata": {
    "scrolled": true
   },
   "outputs": [
    {
     "name": "stdout",
     "output_type": "stream",
     "text": [
      "[ 0.01266675  0.29767546 -2.21372171]\n"
     ]
    }
   ],
   "source": [
    "cv = cross_val_score(Lasso(alpha=alpha), X, y, cv=3)\n",
    "print(cv)"
   ]
  },
  {
   "cell_type": "markdown",
   "metadata": {},
   "source": [
    "### Random Forest\n",
    "\n",
    "    A escolha de utilizar Random forest se deve pela boa perfomance em grande quantidade de features e dados, além de ser um modelo de fácil entendimento. A desvantagem desse algoritmo é que tende overfitting quando há ruídos tanto em tarefas de classificação quanto de regressão e para features categóricas que possuem muitos valores distintos o modelo acaba enviesado em favor desses diferentes valores."
   ]
  },
  {
   "cell_type": "code",
   "execution_count": 59,
   "metadata": {
    "scrolled": true
   },
   "outputs": [
    {
     "name": "stdout",
     "output_type": "stream",
     "text": [
      "RMSE train: 0.0555 | MAE train: 0.1456 | r2: 0.9457\n",
      "RMSE test: 0.3207  | MAE test: 0.3636 | r2: 0.6648\n"
     ]
    }
   ],
   "source": [
    "X_train, X_test, y_train, y_test = train_test_split(X, y, test_size=0.33, random_state=0)\n",
    "\n",
    "rf_reg = RandomForestRegressor(n_jobs=-1)\n",
    "rf_reg.fit(X_train, y_train)\n",
    "\n",
    "y_train_predicted = rf_reg.predict(X_train)\n",
    "RMSE_train = mean_squared_error(y_train, y_train_predicted, squared=True)\n",
    "MAE_train = mean_absolute_error(y_train, y_train_predicted)\n",
    "r2 = r2_score(y_train, y_train_predicted)\n",
    "print(\"RMSE train: {:.4f} | MAE train: {:.4f} | r2: {:.4f}\".format(RMSE_train, MAE_train, r2))\n",
    "\n",
    "y_test_predicted = rf_reg.predict(X_test)      \n",
    "RMSE_test = mean_squared_error(y_test, y_test_predicted, squared=True)\n",
    "MAE_test = mean_absolute_error(y_test, y_test_predicted)\n",
    "r2 = r2_score(y_test, y_test_predicted)\n",
    "print(\"RMSE test: {:.4f}  | MAE test: {:.4f} | r2: {:.4f}\".format(RMSE_test, MAE_test, r2))"
   ]
  },
  {
   "cell_type": "code",
   "execution_count": 60,
   "metadata": {},
   "outputs": [
    {
     "name": "stdout",
     "output_type": "stream",
     "text": [
      "[-0.31650001  0.4170971  -6.04085683]\n"
     ]
    }
   ],
   "source": [
    "cv = cross_val_score(RandomForestRegressor(n_jobs=-1), X, y, cv=3, n_jobs=-1)\n",
    "print(cv)"
   ]
  },
  {
   "cell_type": "markdown",
   "metadata": {},
   "source": [
    "    Devido à diferença entre as métricas de treino e teste, será utilizado GridSearch. Mesmo sendo muito custoso, o processo abaixo demorou por volta de 8 minutos para ser executado. O tempo de execução varia em função da configuração do computador."
   ]
  },
  {
   "cell_type": "code",
   "execution_count": 61,
   "metadata": {
    "scrolled": true
   },
   "outputs": [],
   "source": [
    "# Utilizando GridSearch para diminuir o overfitting do modelo\n",
    "# param_grid = {\n",
    "#     'bootstrap': [True],\n",
    "#     'max_depth': [90, 100],\n",
    "#     'max_features': [2, 3],\n",
    "#     'min_samples_leaf': [3, 4],\n",
    "#     'min_samples_split': [8, 10, 12],\n",
    "#     'n_estimators': [100, 200, 500]\n",
    "# }\n",
    "\n",
    "# rf = RandomForestRegressor()\n",
    "\n",
    "# grid_search = GridSearchCV(estimator=rf, param_grid=param_grid, cv=5, n_jobs=-1, verbose=2)\n",
    "\n",
    "# grid_search.fit(X_train, y_train)\n",
    "# print(\"best params: {}\".format(grid_search.best_params_))"
   ]
  },
  {
   "cell_type": "code",
   "execution_count": 71,
   "metadata": {},
   "outputs": [
    {
     "name": "stdout",
     "output_type": "stream",
     "text": [
      "RMSE train: 0.3366 | MAE train: 0.3567 | r2: 0.6704\n",
      "RMSE test: 0.4092  | MAE test: 0.4056 | r2: 0.5723\n"
     ]
    }
   ],
   "source": [
    "X_train, X_test, y_train, y_test = train_test_split(X, y, test_size=0.33, random_state=0)\n",
    "\n",
    "rf_reg = RandomForestRegressor(bootstrap=True, max_depth=100, max_features=3, n_jobs=-1,\n",
    "                               min_samples_leaf=3, min_samples_split=8, n_estimators=200)\n",
    "rf_reg.fit(X_train, y_train)\n",
    "\n",
    "y_train_predicted = rf_reg.predict(X_train)\n",
    "RMSE_train = mean_squared_error(y_train, y_train_predicted, squared=True)\n",
    "MAE_train = mean_absolute_error(y_train, y_train_predicted)\n",
    "r2 = r2_score(y_train, y_train_predicted)\n",
    "print(\"RMSE train: {:.4f} | MAE train: {:.4f} | r2: {:.4f}\".format(RMSE_train, MAE_train, r2))\n",
    "\n",
    "y_test_predicted = rf_reg.predict(X_test)      \n",
    "RMSE_test = mean_squared_error(y_test, y_test_predicted, squared=True)\n",
    "MAE_test = mean_absolute_error(y_test, y_test_predicted)\n",
    "r2 = r2_score(y_test, y_test_predicted)\n",
    "print(\"RMSE test: {:.4f}  | MAE test: {:.4f} | r2: {:.4f}\".format(RMSE_test, MAE_test, r2))"
   ]
  },
  {
   "cell_type": "code",
   "execution_count": 72,
   "metadata": {
    "scrolled": true
   },
   "outputs": [
    {
     "data": {
      "text/plain": [
       "<matplotlib.axes._subplots.AxesSubplot at 0x7f8042ee06d0>"
      ]
     },
     "execution_count": 72,
     "metadata": {},
     "output_type": "execute_result"
    },
    {
     "data": {
      "image/png": "[encoded data removed]",
      "text/plain": [
       "<Figure size 1152x288 with 1 Axes>"
      ]
     },
     "metadata": {
      "needs_background": "light"
     },
     "output_type": "display_data"
    }
   ],
   "source": [
    "fig, ax = plt.subplots(figsize=(16, 4))\n",
    "sns.residplot(x=y_test, y=y_test_predicted, color='g', scatter_kws={\"s\": 3}, ax=ax)"
   ]
  },
  {
   "cell_type": "code",
   "execution_count": 73,
   "metadata": {},
   "outputs": [
    {
     "name": "stdout",
     "output_type": "stream",
     "text": [
      "[ 0.03359037  0.3404334  -1.38683502]\n"
     ]
    }
   ],
   "source": [
    "# Cross-validation\n",
    "rf_reg = RandomForestRegressor(bootstrap=True, max_depth=100, max_features=3, n_jobs=-1,\n",
    "                               min_samples_leaf=3, min_samples_split=8, n_estimators=200)\n",
    "\n",
    "cv = cross_val_score(rf_reg, X, y, cv=3)\n",
    "print(cv)"
   ]
  },
  {
   "cell_type": "markdown",
   "metadata": {},
   "source": [
    "### Linear Regression"
   ]
  },
  {
   "cell_type": "code",
   "execution_count": 65,
   "metadata": {
    "scrolled": true
   },
   "outputs": [
    {
     "name": "stdout",
     "output_type": "stream",
     "text": [
      "RMSE train: 0.5948 | MAE train: 0.5029 | r2: 0.4151\n",
      "RMSE test: 0.5426  | MAE test: 0.4942 | r2: 0.4351\n",
      "[-9.17664319e-05 -1.70997136e-05 -2.15503273e-02  1.84256038e-01\n",
      "  3.30289647e-01  1.62442945e+00 -9.41127154e-01  2.57220566e-01\n",
      "  4.20783640e-03 -9.44730693e-01 -4.08006962e-15  1.55431223e-15\n",
      " -7.86601709e-01  3.60852909e+00  2.38415510e+00  8.17474141e-01\n",
      " -1.92814591e-01 -4.53143524e-01 -6.15316695e-01 -5.38465584e-01\n",
      " -5.24719329e-01 -5.13039929e-01 -5.09910656e-01 -5.26184386e-01\n",
      " -4.31718632e-01 -4.82617719e-01 -4.08805091e-01 -4.50872074e-01\n",
      " -3.75948411e-01  4.06887972e-02 -4.06887972e-02]\n"
     ]
    }
   ],
   "source": [
    "X_train, X_test, y_train, y_test = train_test_split(X, y, test_size=0.3, random_state=0)\n",
    "\n",
    "ln_reg = LinearRegression(n_jobs=-1)\n",
    "ln_reg.fit(X_train, y_train)\n",
    "\n",
    "y_train_predicted = ln_reg.predict(X_train)\n",
    "RMSE_train = mean_squared_error(y_train, y_train_predicted, squared=True)\n",
    "MAE_train = mean_absolute_error(y_train, y_train_predicted)\n",
    "r2 = r2_score(y_train, y_train_predicted)\n",
    "print(\"RMSE train: {:.4f} | MAE train: {:.4f} | r2: {:.4f}\".format(RMSE_train, MAE_train, r2))\n",
    "\n",
    "y_test_predicted = ln_reg.predict(X_test)      \n",
    "RMSE_test = mean_squared_error(y_test, y_test_predicted, squared=True)\n",
    "MAE_test = mean_absolute_error(y_test, y_test_predicted)\n",
    "r2 = r2_score(y_test, y_test_predicted)\n",
    "print(\"RMSE test: {:.4f}  | MAE test: {:.4f} | r2: {:.4f}\".format(RMSE_test, MAE_test, r2))\n",
    "\n",
    "print(ln_reg.coef_)"
   ]
  },
  {
   "cell_type": "code",
   "execution_count": 66,
   "metadata": {},
   "outputs": [
    {
     "data": {
      "text/plain": [
       "<matplotlib.axes._subplots.AxesSubplot at 0x7f8041441050>"
      ]
     },
     "execution_count": 66,
     "metadata": {},
     "output_type": "execute_result"
    },
    {
     "data": {
      "image/png": "[encoded data removed]",
      "text/plain": [
       "<Figure size 1152x288 with 1 Axes>"
      ]
     },
     "metadata": {
      "needs_background": "light"
     },
     "output_type": "display_data"
    }
   ],
   "source": [
    "fig, ax = plt.subplots(figsize=(16, 4))\n",
    "sns.residplot(x=y_test, y=y_test_predicted, color='c', scatter_kws={\"s\": 3}, ax=ax)"
   ]
  },
  {
   "cell_type": "code",
   "execution_count": 67,
   "metadata": {},
   "outputs": [
    {
     "name": "stdout",
     "output_type": "stream",
     "text": [
      "[ 0.05045481  0.29809423 -3.009603  ]\n"
     ]
    }
   ],
   "source": [
    "cv = cross_val_score(LinearRegression(n_jobs=-1), X, y, cv=3)\n",
    "print(cv)"
   ]
  },
  {
   "cell_type": "markdown",
   "metadata": {},
   "source": [
    "### KNN"
   ]
  },
  {
   "cell_type": "code",
   "execution_count": 68,
   "metadata": {
    "scrolled": true
   },
   "outputs": [
    {
     "name": "stdout",
     "output_type": "stream",
     "text": [
      "RMSE train: 0.6683 | MAE train: 0.5386 | r2: 0.3428\n",
      "RMSE test: 0.7219  | MAE test: 0.5718 | r2: 0.2484\n"
     ]
    }
   ],
   "source": [
    "X_train, X_test, y_train, y_test = train_test_split(X, y, test_size=0.3, random_state=0)\n",
    "\n",
    "knn = KNeighborsRegressor(n_neighbors=13, n_jobs=-1)\n",
    "knn.fit(X_train, y_train)\n",
    "\n",
    "y_train_predicted = knn.predict(X_train)\n",
    "RMSE_train = mean_squared_error(y_train, y_train_predicted, squared=True)\n",
    "MAE_train = mean_absolute_error(y_train, y_train_predicted)\n",
    "r2 = r2_score(y_train, y_train_predicted)\n",
    "print(\"RMSE train: {:.4f} | MAE train: {:.4f} | r2: {:.4f}\".format(RMSE_train, MAE_train, r2))\n",
    "\n",
    "y_test_predicted = knn.predict(X_test)      \n",
    "RMSE_test = mean_squared_error(y_test, y_test_predicted, squared=True)\n",
    "MAE_test = mean_absolute_error(y_test, y_test_predicted)\n",
    "r2 = r2_score(y_test, y_test_predicted)\n",
    "print(\"RMSE test: {:.4f}  | MAE test: {:.4f} | r2: {:.4f}\".format(RMSE_test, MAE_test, r2))"
   ]
  },
  {
   "cell_type": "code",
   "execution_count": 69,
   "metadata": {},
   "outputs": [
    {
     "data": {
      "text/plain": [
       "<matplotlib.axes._subplots.AxesSubplot at 0x7f8042fefad0>"
      ]
     },
     "execution_count": 69,
     "metadata": {},
     "output_type": "execute_result"
    },
    {
     "data": {
      "image/png": "[encoded data removed]",
      "text/plain": [
       "<Figure size 1152x288 with 1 Axes>"
      ]
     },
     "metadata": {
      "needs_background": "light"
     },
     "output_type": "display_data"
    }
   ],
   "source": [
    "fig, ax = plt.subplots(figsize=(16, 4))\n",
    "sns.residplot(x=y_test, y=y_test_predicted, color='m', scatter_kws={\"s\": 3}, ax=ax)"
   ]
  },
  {
   "cell_type": "code",
   "execution_count": 70,
   "metadata": {},
   "outputs": [
    {
     "name": "stdout",
     "output_type": "stream",
     "text": [
      "[-0.09868449 -0.2518134  -7.44708774]\n"
     ]
    }
   ],
   "source": [
    "knn = KNeighborsRegressor(n_neighbors=13, n_jobs=-1)\n",
    "cv = cross_val_score(knn, X, y, cv=3)\n",
    "print(cv)"
   ]
  },
  {
   "cell_type": "markdown",
   "metadata": {},
   "source": [
    "Entre os modelos utilizados, o RandomForest é o modelo que possui as métricas mais assertivas quando comparados com os outros modelos tanto nos dados de teste e treino. "
   ]
  }
 ],
 "metadata": {
  "kernelspec": {
   "display_name": "Python 3",
   "language": "python",
   "name": "python3"
  },
  "language_info": {
   "codemirror_mode": {
    "name": "ipython",
    "version": 3
   },
   "file_extension": ".py",
   "mimetype": "text/x-python",
   "name": "python",
   "nbconvert_exporter": "python",
   "pygments_lexer": "ipython3",
   "version": "3.7.7"
  }
 },
 "nbformat": 4,
 "nbformat_minor": 4
}
